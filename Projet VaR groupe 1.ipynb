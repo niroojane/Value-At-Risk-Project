{
 "cells": [
  {
   "cell_type": "markdown",
   "id": "29f08c30-b87a-4953-a5a5-ff681406c0c5",
   "metadata": {},
   "source": [
    "# Projet VaR\n",
    "# Importing libraries"
   ]
  },
  {
   "cell_type": "code",
   "execution_count": 1,
   "id": "451d025d-9430-46f4-8845-38e5f87d150c",
   "metadata": {},
   "outputs": [],
   "source": [
    "import pandas as pd\n",
    "import numpy as np\n",
    "import matplotlib.pyplot as plt"
   ]
  },
  {
   "cell_type": "code",
   "execution_count": 2,
   "id": "2e11539f-03b7-488c-8533-3893ade8f16e",
   "metadata": {},
   "outputs": [],
   "source": [
    "file=pd.ExcelFile('projetVaR_light_groupe1.xlsm')"
   ]
  },
  {
   "cell_type": "code",
   "execution_count": 3,
   "id": "a01ccbab-8433-4f4a-9813-7f108ceeb925",
   "metadata": {},
   "outputs": [],
   "source": [
    "data=file.parse('cleandata',header=None)"
   ]
  },
  {
   "cell_type": "markdown",
   "id": "62b3a77f-b4ff-4c26-acdf-3449572554c1",
   "metadata": {},
   "source": [
    "# Data Cleaning"
   ]
  },
  {
   "cell_type": "code",
   "execution_count": 4,
   "id": "ea59eee3-33e9-4a6b-86f2-2f3c883c7a03",
   "metadata": {},
   "outputs": [],
   "source": [
    "spot=data[5:]\n",
    "columns=data.iloc[4]\n",
    "spot.columns=columns\n",
    "spot=spot.set_index(spot.columns[0])\n",
    "spot.index.name='Date'"
   ]
  },
  {
   "cell_type": "code",
   "execution_count": 5,
   "id": "854c953f-543c-4d0a-a8ba-0d9b109d110c",
   "metadata": {},
   "outputs": [],
   "source": [
    "stock=spot.iloc[:,:-10]"
   ]
  },
  {
   "cell_type": "code",
   "execution_count": 6,
   "id": "6a9ada72-3df1-44ce-881a-af3a499c042c",
   "metadata": {},
   "outputs": [],
   "source": [
    "control_room=file.parse('control_room',header=None)"
   ]
  },
  {
   "cell_type": "code",
   "execution_count": 7,
   "id": "53a2c99a-fe9c-4b17-b2a7-51509be09402",
   "metadata": {},
   "outputs": [],
   "source": [
    "halton=file.parse('halton',header=None)"
   ]
  },
  {
   "cell_type": "code",
   "execution_count": 8,
   "id": "aaf49d0e-cd60-4a5d-bcf0-cea7c50ce7c6",
   "metadata": {},
   "outputs": [],
   "source": [
    "# references de données du portefeuille\n",
    "portfolio=control_room.iloc[5:31,2:13].reset_index()\n",
    "portfolio.columns=portfolio.iloc[0]\n",
    "portfolio=portfolio.drop(columns=5,index=[0])"
   ]
  },
  {
   "cell_type": "code",
   "execution_count": 9,
   "id": "218939a9-6396-4a99-bf5a-1a5766418a5f",
   "metadata": {},
   "outputs": [],
   "source": [
    "# Creation des cours de change\n",
    "FX=spot.iloc[:,-10:]\n",
    "FX['EUREUR']=1"
   ]
  },
  {
   "cell_type": "code",
   "execution_count": 10,
   "id": "181d7f15-35a0-4587-aded-7eef2cc8389e",
   "metadata": {},
   "outputs": [],
   "source": [
    "#Creation d'un dictionnaire de devise\n",
    "devise={}\n",
    "devise[\"EUR\"]='EUREUR'\n",
    "for col_index in range(0,len(FX.columns),2):\n",
    "    devise_etrangere=FX.columns[col_index][:3]\n",
    "    devise[devise_etrangere]=FX.columns[col_index]"
   ]
  },
  {
   "cell_type": "markdown",
   "id": "ad3497af-cdcc-4a63-a7b9-865d530b8212",
   "metadata": {
    "tags": []
   },
   "source": [
    "## Composition portefeuille"
   ]
  },
  {
   "cell_type": "code",
   "execution_count": 11,
   "id": "47177f0b-b35d-4a20-898a-0589a3ed7cc5",
   "metadata": {},
   "outputs": [],
   "source": [
    "#Creation d'un dictionnaire qui recense les devises de cotations de chaques titres et d'un dictionnaire qui recence le poids des ces titres dans le portefeuille\n",
    "devise_ptf=dict(zip(portfolio['code'],portfolio['dev']))\n",
    "positions=dict(zip(portfolio['code'],portfolio['poids']))"
   ]
  },
  {
   "cell_type": "code",
   "execution_count": 12,
   "id": "90829ef9-7313-4712-913a-892d2a7e055c",
   "metadata": {},
   "outputs": [],
   "source": [
    "#Conversion des valeurs du dictionnaire de change du portefeuille dans le dictionnaire de devise , ex : GBp=> GBpEUR\n",
    "for asset in devise_ptf.keys():\n",
    "    devise_ptf[asset]=devise[devise_ptf[asset]]\n"
   ]
  },
  {
   "cell_type": "code",
   "execution_count": 13,
   "id": "48988298-f3a3-4d33-a1ee-ff70e9031ffd",
   "metadata": {},
   "outputs": [],
   "source": [
    "# Creation d'un DataFrame qui reprends les cours en EUROS des actifs du portefeuille\n",
    "ptf_data=pd.DataFrame()\n",
    "\n",
    "for asset in devise_ptf.keys():\n",
    "    \n",
    "    if asset not in FX.columns:\n",
    "        if devise_ptf[asset]=='EUREUR':\n",
    "            ptf_data[asset]=spot[asset]\n",
    "\n",
    "        elif devise_ptf[asset]=='GBpEUR':\n",
    "            ptf_data[asset]=spot[asset]*FX['GBpEUR']/100\n",
    "\n",
    "        else:\n",
    "            ptf_data[asset]=spot[asset]*FX[devise_ptf[asset]]\n",
    "    \n",
    "    else:\n",
    "        \n",
    "        ptf_data[asset]=FX[devise_ptf[asset]]\n"
   ]
  },
  {
   "cell_type": "code",
   "execution_count": 14,
   "id": "ca7ee74c-923d-41a9-8a64-8aad542aaf9b",
   "metadata": {},
   "outputs": [],
   "source": [
    "# Creation d'un Array numpy pour stocker les poids du portefeuille (pour éviter aussi de se reordonner par rapport aux colonns de \"ptf_data\")\n",
    "poids_ptf=[]\n",
    "for col in ptf_data.columns:\n",
    "    poids_ptf.append(positions[col])\n",
    "poids_ptf=np.array(poids_ptf)"
   ]
  },
  {
   "cell_type": "code",
   "execution_count": 15,
   "id": "faff33c8-c070-42b8-9be3-1f55ce438eba",
   "metadata": {},
   "outputs": [
    {
     "data": {
      "text/html": [
       "<div>\n",
       "<style scoped>\n",
       "    .dataframe tbody tr th:only-of-type {\n",
       "        vertical-align: middle;\n",
       "    }\n",
       "\n",
       "    .dataframe tbody tr th {\n",
       "        vertical-align: top;\n",
       "    }\n",
       "\n",
       "    .dataframe thead th {\n",
       "        text-align: right;\n",
       "    }\n",
       "</style>\n",
       "<table border=\"1\" class=\"dataframe\">\n",
       "  <thead>\n",
       "    <tr style=\"text-align: right;\">\n",
       "      <th></th>\n",
       "      <th>ASML NA</th>\n",
       "      <th>SAP GY</th>\n",
       "      <th>NESN SW</th>\n",
       "      <th>MC FP</th>\n",
       "      <th>URW NA</th>\n",
       "      <th>HSBA LN</th>\n",
       "      <th>FP FP</th>\n",
       "      <th>NOVN SW</th>\n",
       "      <th>BP/ LN</th>\n",
       "      <th>LIN GY</th>\n",
       "      <th>...</th>\n",
       "      <th>BNP FP</th>\n",
       "      <th>ALV GY</th>\n",
       "      <th>GLE FP</th>\n",
       "      <th>RIO LN</th>\n",
       "      <th>CGG FP</th>\n",
       "      <th>EUREUR</th>\n",
       "      <th>CHFEUR</th>\n",
       "      <th>GBpEUR</th>\n",
       "      <th>DKKEUR</th>\n",
       "      <th>SX5E</th>\n",
       "    </tr>\n",
       "    <tr>\n",
       "      <th>Date</th>\n",
       "      <th></th>\n",
       "      <th></th>\n",
       "      <th></th>\n",
       "      <th></th>\n",
       "      <th></th>\n",
       "      <th></th>\n",
       "      <th></th>\n",
       "      <th></th>\n",
       "      <th></th>\n",
       "      <th></th>\n",
       "      <th></th>\n",
       "      <th></th>\n",
       "      <th></th>\n",
       "      <th></th>\n",
       "      <th></th>\n",
       "      <th></th>\n",
       "      <th></th>\n",
       "      <th></th>\n",
       "      <th></th>\n",
       "      <th></th>\n",
       "      <th></th>\n",
       "    </tr>\n",
       "  </thead>\n",
       "  <tbody>\n",
       "    <tr>\n",
       "      <th>2020-09-28</th>\n",
       "      <td>314.8</td>\n",
       "      <td>134.66</td>\n",
       "      <td>101.891724</td>\n",
       "      <td>405.9</td>\n",
       "      <td>31.57</td>\n",
       "      <td>3.394359</td>\n",
       "      <td>28.8</td>\n",
       "      <td>74.916567</td>\n",
       "      <td>2.579184</td>\n",
       "      <td>204.1</td>\n",
       "      <td>...</td>\n",
       "      <td>31.82</td>\n",
       "      <td>166.84</td>\n",
       "      <td>11.452</td>\n",
       "      <td>51.468179</td>\n",
       "      <td>0.577</td>\n",
       "      <td>1</td>\n",
       "      <td>0.9273</td>\n",
       "      <td>1.1001</td>\n",
       "      <td>0.1343</td>\n",
       "      <td>3223.19</td>\n",
       "    </tr>\n",
       "    <tr>\n",
       "      <th>2020-09-29</th>\n",
       "      <td>318.25</td>\n",
       "      <td>134.16</td>\n",
       "      <td>101.57123</td>\n",
       "      <td>409.95</td>\n",
       "      <td>29.87</td>\n",
       "      <td>3.26947</td>\n",
       "      <td>28.33</td>\n",
       "      <td>74.53495</td>\n",
       "      <td>2.511523</td>\n",
       "      <td>202.3</td>\n",
       "      <td>...</td>\n",
       "      <td>30.995</td>\n",
       "      <td>164.88</td>\n",
       "      <td>11.028</td>\n",
       "      <td>51.610536</td>\n",
       "      <td>0.5592</td>\n",
       "      <td>1</td>\n",
       "      <td>0.9259</td>\n",
       "      <td>1.0953</td>\n",
       "      <td>0.1343</td>\n",
       "      <td>3214.3</td>\n",
       "    </tr>\n",
       "    <tr>\n",
       "      <th>2020-09-30</th>\n",
       "      <td>314.7</td>\n",
       "      <td>132.76</td>\n",
       "      <td>101.30351</td>\n",
       "      <td>399.4</td>\n",
       "      <td>31.5</td>\n",
       "      <td>3.323736</td>\n",
       "      <td>29.2</td>\n",
       "      <td>74.036615</td>\n",
       "      <td>2.482605</td>\n",
       "      <td>201.9</td>\n",
       "      <td>...</td>\n",
       "      <td>30.975</td>\n",
       "      <td>163.62</td>\n",
       "      <td>11.318</td>\n",
       "      <td>51.322232</td>\n",
       "      <td>0.5738</td>\n",
       "      <td>1</td>\n",
       "      <td>0.9265</td>\n",
       "      <td>1.1024</td>\n",
       "      <td>0.1343</td>\n",
       "      <td>3193.61</td>\n",
       "    </tr>\n",
       "    <tr>\n",
       "      <th>2020-10-01</th>\n",
       "      <td>321.4</td>\n",
       "      <td>133.74</td>\n",
       "      <td>102.088766</td>\n",
       "      <td>409.7</td>\n",
       "      <td>30.3</td>\n",
       "      <td>3.341767</td>\n",
       "      <td>28.49</td>\n",
       "      <td>74.52276</td>\n",
       "      <td>2.393872</td>\n",
       "      <td>201.4</td>\n",
       "      <td>...</td>\n",
       "      <td>30.655</td>\n",
       "      <td>162.18</td>\n",
       "      <td>11.048</td>\n",
       "      <td>50.998694</td>\n",
       "      <td>0.565</td>\n",
       "      <td>1</td>\n",
       "      <td>0.9269</td>\n",
       "      <td>1.0971</td>\n",
       "      <td>0.1344</td>\n",
       "      <td>3194.09</td>\n",
       "    </tr>\n",
       "    <tr>\n",
       "      <th>2020-10-02</th>\n",
       "      <td>319.9</td>\n",
       "      <td>132.76</td>\n",
       "      <td>102.28518</td>\n",
       "      <td>407.65</td>\n",
       "      <td>29.88</td>\n",
       "      <td>3.403144</td>\n",
       "      <td>28.21</td>\n",
       "      <td>74.52153</td>\n",
       "      <td>2.367405</td>\n",
       "      <td>199.65</td>\n",
       "      <td>...</td>\n",
       "      <td>30.49</td>\n",
       "      <td>162.8</td>\n",
       "      <td>11.038</td>\n",
       "      <td>51.831148</td>\n",
       "      <td>0.5622</td>\n",
       "      <td>1</td>\n",
       "      <td>0.927</td>\n",
       "      <td>1.1042</td>\n",
       "      <td>0.1343</td>\n",
       "      <td>3190.93</td>\n",
       "    </tr>\n",
       "    <tr>\n",
       "      <th>...</th>\n",
       "      <td>...</td>\n",
       "      <td>...</td>\n",
       "      <td>...</td>\n",
       "      <td>...</td>\n",
       "      <td>...</td>\n",
       "      <td>...</td>\n",
       "      <td>...</td>\n",
       "      <td>...</td>\n",
       "      <td>...</td>\n",
       "      <td>...</td>\n",
       "      <td>...</td>\n",
       "      <td>...</td>\n",
       "      <td>...</td>\n",
       "      <td>...</td>\n",
       "      <td>...</td>\n",
       "      <td>...</td>\n",
       "      <td>...</td>\n",
       "      <td>...</td>\n",
       "      <td>...</td>\n",
       "      <td>...</td>\n",
       "      <td>...</td>\n",
       "    </tr>\n",
       "    <tr>\n",
       "      <th>2021-03-29</th>\n",
       "      <td>516.5</td>\n",
       "      <td>104.3</td>\n",
       "      <td>95.203056</td>\n",
       "      <td>554.9</td>\n",
       "      <td>66.52</td>\n",
       "      <td>4.890934</td>\n",
       "      <td>39.745</td>\n",
       "      <td>74.537424</td>\n",
       "      <td>3.515249</td>\n",
       "      <td>237</td>\n",
       "      <td>...</td>\n",
       "      <td>50.67</td>\n",
       "      <td>214.6</td>\n",
       "      <td>21.705</td>\n",
       "      <td>64.10504</td>\n",
       "      <td>1.0565</td>\n",
       "      <td>1</td>\n",
       "      <td>0.9048</td>\n",
       "      <td>1.1698</td>\n",
       "      <td>0.1345</td>\n",
       "      <td>3882.87</td>\n",
       "    </tr>\n",
       "    <tr>\n",
       "      <th>2021-03-30</th>\n",
       "      <td>516.3</td>\n",
       "      <td>103.56</td>\n",
       "      <td>95.971046</td>\n",
       "      <td>573.5</td>\n",
       "      <td>69.22</td>\n",
       "      <td>5.050663</td>\n",
       "      <td>40.25</td>\n",
       "      <td>74.156974</td>\n",
       "      <td>3.535992</td>\n",
       "      <td>238.5</td>\n",
       "      <td>...</td>\n",
       "      <td>52.62</td>\n",
       "      <td>219.05</td>\n",
       "      <td>22.565</td>\n",
       "      <td>65.418784</td>\n",
       "      <td>1.0475</td>\n",
       "      <td>1</td>\n",
       "      <td>0.9059</td>\n",
       "      <td>1.1728</td>\n",
       "      <td>0.1345</td>\n",
       "      <td>3926.2</td>\n",
       "    </tr>\n",
       "    <tr>\n",
       "      <th>2021-03-31</th>\n",
       "      <td>517</td>\n",
       "      <td>104.42</td>\n",
       "      <td>95.164156</td>\n",
       "      <td>568.1</td>\n",
       "      <td>68.34</td>\n",
       "      <td>4.9726</td>\n",
       "      <td>39.775</td>\n",
       "      <td>72.967618</td>\n",
       "      <td>3.462137</td>\n",
       "      <td>238.9</td>\n",
       "      <td>...</td>\n",
       "      <td>51.88</td>\n",
       "      <td>217.05</td>\n",
       "      <td>22.315</td>\n",
       "      <td>65.2125</td>\n",
       "      <td>1.0255</td>\n",
       "      <td>1</td>\n",
       "      <td>0.9034</td>\n",
       "      <td>1.175</td>\n",
       "      <td>0.1344</td>\n",
       "      <td>3919.21</td>\n",
       "    </tr>\n",
       "    <tr>\n",
       "      <th>2021-04-06</th>\n",
       "      <td>533.3</td>\n",
       "      <td>108.9</td>\n",
       "      <td>96.13026</td>\n",
       "      <td>576.8</td>\n",
       "      <td>68.92</td>\n",
       "      <td>4.968961</td>\n",
       "      <td>38.82</td>\n",
       "      <td>73.60821</td>\n",
       "      <td>3.490554</td>\n",
       "      <td>240.4</td>\n",
       "      <td>...</td>\n",
       "      <td>51.95</td>\n",
       "      <td>218.35</td>\n",
       "      <td>22.65</td>\n",
       "      <td>65.503907</td>\n",
       "      <td>1.0835</td>\n",
       "      <td>1</td>\n",
       "      <td>0.9045</td>\n",
       "      <td>1.1641</td>\n",
       "      <td>0.1345</td>\n",
       "      <td>3970.42</td>\n",
       "    </tr>\n",
       "    <tr>\n",
       "      <th>2021-04-07</th>\n",
       "      <td>524.9</td>\n",
       "      <td>109.36</td>\n",
       "      <td>96.8992</td>\n",
       "      <td>577.2</td>\n",
       "      <td>70.9</td>\n",
       "      <td>5.022537</td>\n",
       "      <td>38.915</td>\n",
       "      <td>72.71968</td>\n",
       "      <td>3.535278</td>\n",
       "      <td>238.3</td>\n",
       "      <td>...</td>\n",
       "      <td>52.29</td>\n",
       "      <td>220</td>\n",
       "      <td>22.665</td>\n",
       "      <td>66.469482</td>\n",
       "      <td>1.0825</td>\n",
       "      <td>1</td>\n",
       "      <td>0.9056</td>\n",
       "      <td>1.1574</td>\n",
       "      <td>0.1345</td>\n",
       "      <td>3956.77</td>\n",
       "    </tr>\n",
       "  </tbody>\n",
       "</table>\n",
       "<p>129 rows × 25 columns</p>\n",
       "</div>"
      ],
      "text/plain": [
       "           ASML NA  SAP GY     NESN SW   MC FP URW NA   HSBA LN   FP FP  \\\n",
       "Date                                                                      \n",
       "2020-09-28   314.8  134.66  101.891724   405.9  31.57  3.394359    28.8   \n",
       "2020-09-29  318.25  134.16   101.57123  409.95  29.87   3.26947   28.33   \n",
       "2020-09-30   314.7  132.76   101.30351   399.4   31.5  3.323736    29.2   \n",
       "2020-10-01   321.4  133.74  102.088766   409.7   30.3  3.341767   28.49   \n",
       "2020-10-02   319.9  132.76   102.28518  407.65  29.88  3.403144   28.21   \n",
       "...            ...     ...         ...     ...    ...       ...     ...   \n",
       "2021-03-29   516.5   104.3   95.203056   554.9  66.52  4.890934  39.745   \n",
       "2021-03-30   516.3  103.56   95.971046   573.5  69.22  5.050663   40.25   \n",
       "2021-03-31     517  104.42   95.164156   568.1  68.34    4.9726  39.775   \n",
       "2021-04-06   533.3   108.9    96.13026   576.8  68.92  4.968961   38.82   \n",
       "2021-04-07   524.9  109.36     96.8992   577.2   70.9  5.022537  38.915   \n",
       "\n",
       "              NOVN SW    BP/ LN  LIN GY  ...  BNP FP  ALV GY  GLE FP  \\\n",
       "Date                                     ...                           \n",
       "2020-09-28  74.916567  2.579184   204.1  ...   31.82  166.84  11.452   \n",
       "2020-09-29   74.53495  2.511523   202.3  ...  30.995  164.88  11.028   \n",
       "2020-09-30  74.036615  2.482605   201.9  ...  30.975  163.62  11.318   \n",
       "2020-10-01   74.52276  2.393872   201.4  ...  30.655  162.18  11.048   \n",
       "2020-10-02   74.52153  2.367405  199.65  ...   30.49   162.8  11.038   \n",
       "...               ...       ...     ...  ...     ...     ...     ...   \n",
       "2021-03-29  74.537424  3.515249     237  ...   50.67   214.6  21.705   \n",
       "2021-03-30  74.156974  3.535992   238.5  ...   52.62  219.05  22.565   \n",
       "2021-03-31  72.967618  3.462137   238.9  ...   51.88  217.05  22.315   \n",
       "2021-04-06   73.60821  3.490554   240.4  ...   51.95  218.35   22.65   \n",
       "2021-04-07   72.71968  3.535278   238.3  ...   52.29     220  22.665   \n",
       "\n",
       "               RIO LN  CGG FP EUREUR  CHFEUR  GBpEUR  DKKEUR     SX5E  \n",
       "Date                                                                   \n",
       "2020-09-28  51.468179   0.577      1  0.9273  1.1001  0.1343  3223.19  \n",
       "2020-09-29  51.610536  0.5592      1  0.9259  1.0953  0.1343   3214.3  \n",
       "2020-09-30  51.322232  0.5738      1  0.9265  1.1024  0.1343  3193.61  \n",
       "2020-10-01  50.998694   0.565      1  0.9269  1.0971  0.1344  3194.09  \n",
       "2020-10-02  51.831148  0.5622      1   0.927  1.1042  0.1343  3190.93  \n",
       "...               ...     ...    ...     ...     ...     ...      ...  \n",
       "2021-03-29   64.10504  1.0565      1  0.9048  1.1698  0.1345  3882.87  \n",
       "2021-03-30  65.418784  1.0475      1  0.9059  1.1728  0.1345   3926.2  \n",
       "2021-03-31    65.2125  1.0255      1  0.9034   1.175  0.1344  3919.21  \n",
       "2021-04-06  65.503907  1.0835      1  0.9045  1.1641  0.1345  3970.42  \n",
       "2021-04-07  66.469482  1.0825      1  0.9056  1.1574  0.1345  3956.77  \n",
       "\n",
       "[129 rows x 25 columns]"
      ]
     },
     "execution_count": 15,
     "metadata": {},
     "output_type": "execute_result"
    }
   ],
   "source": [
    "ptf_data"
   ]
  },
  {
   "cell_type": "code",
   "execution_count": 16,
   "id": "248a7df1-b3d0-4b0a-b64a-1eeea3cabb89",
   "metadata": {},
   "outputs": [],
   "source": [
    "#Calcul des log-rendements du ptf\n",
    "rendements_ptf=np.log(1+ptf_data.pct_change())"
   ]
  },
  {
   "cell_type": "markdown",
   "id": "afcf6d01-13cb-4b23-a8db-51ea53932cc1",
   "metadata": {},
   "source": [
    "# NAV"
   ]
  },
  {
   "cell_type": "code",
   "execution_count": 17,
   "id": "0072ff27-a004-4e80-955b-9c7f863b8bc9",
   "metadata": {},
   "outputs": [],
   "source": [
    "# Calcul de la perf du ptf en faisant la somme pondérée des performance\n",
    "VL=pd.DataFrame()\n",
    "VL['performance']=np.sum(poids_ptf*rendements_ptf,axis=1)"
   ]
  },
  {
   "cell_type": "markdown",
   "id": "f4bd8900-ddf7-460b-a197-8322396e7045",
   "metadata": {},
   "source": [
    "# Indice"
   ]
  },
  {
   "cell_type": "code",
   "execution_count": 18,
   "id": "3c029073-2c46-49c1-ac47-ead7dd9ffca1",
   "metadata": {},
   "outputs": [],
   "source": [
    "indice=pd.DataFrame()\n",
    "indice['SX5P']=spot['SX5P']"
   ]
  },
  {
   "cell_type": "code",
   "execution_count": 19,
   "id": "df3b455a-1838-4712-8ac0-189d4d1a0a53",
   "metadata": {},
   "outputs": [],
   "source": [
    "indice['performance']=spot.iloc[:,213]"
   ]
  },
  {
   "cell_type": "code",
   "execution_count": 20,
   "id": "804dca3c-2006-4aac-91ce-8874c2a29eff",
   "metadata": {
    "tags": []
   },
   "outputs": [],
   "source": [
    "indice_composition=control_room.iloc[6:56,14:20]\n",
    "indice_composition.columns=control_room.iloc[5,14:20]"
   ]
  },
  {
   "cell_type": "code",
   "execution_count": 21,
   "id": "d33ef1c9-da17-4bac-8fe3-9e280f0eeb91",
   "metadata": {
    "tags": []
   },
   "outputs": [],
   "source": [
    "#Dictionnaire recensant le poids d'un actif dans l'indice (en proportion)\n",
    "poids_indice=dict(zip(indice_composition['code'],indice_composition['poids']/indice_composition['poids'].sum()))"
   ]
  },
  {
   "cell_type": "code",
   "execution_count": 22,
   "id": "d074dff2-79fa-40b1-befb-9a919fae0e88",
   "metadata": {
    "tags": []
   },
   "outputs": [],
   "source": [
    "#Conversion des valeurs du dictionnaire de change du portefeuille dans le dictionnaire de devise , ex : GBp=> GBpEUR\n",
    "\n",
    "devise_indice=dict(zip(indice_composition['code'],indice_composition['dev']))\n",
    "for asset in devise_indice.keys():\n",
    "    devise_indice[asset]=devise[devise_indice[asset]]"
   ]
  },
  {
   "cell_type": "code",
   "execution_count": 23,
   "id": "ad8edebd-dc74-459a-ad5e-0329a7c3e06c",
   "metadata": {
    "tags": []
   },
   "outputs": [],
   "source": [
    "#Creation d'un Dataframe qui reprend le cours de chaque actions de l'indice en euros\n",
    "indice_composed=pd.DataFrame()\n",
    "for stock in poids_indice.keys():\n",
    "    if devise_indice[stock]=='EUREUR':\n",
    "        indice_composed[stock]=spot[stock]\n",
    "    elif devise_indice[stock]=='GBpEUR':\n",
    "        indice_composed[stock]=spot[stock]*FX[devise_indice[stock]]/100\n",
    "    else:\n",
    "        indice_composed[stock]=spot[stock]*FX[devise_indice[stock]]"
   ]
  },
  {
   "cell_type": "code",
   "execution_count": 24,
   "id": "e59a8f76-1926-4b44-bd83-b85f67d1b961",
   "metadata": {
    "tags": []
   },
   "outputs": [],
   "source": [
    "#Log rendement des cours du portefeuille de l'indice\n",
    "\n",
    "indice_reconstruit_perf=np.log(1+indice_composed.pct_change())"
   ]
  },
  {
   "cell_type": "code",
   "execution_count": 25,
   "id": "d252b95c-3a97-4b0a-a2fa-bac7cedb5f5a",
   "metadata": {
    "tags": []
   },
   "outputs": [],
   "source": [
    "# Creation d'un numpy array qui reprends les poids des actifs de l'indice en pourcentage\n",
    "list_weights_indice=[]\n",
    "\n",
    "for col in indice_composed.columns:\n",
    "    list_weights_indice.append(poids_indice[col])\n",
    "    \n",
    "weights_indice=np.array(list_weights_indice)"
   ]
  },
  {
   "cell_type": "code",
   "execution_count": 26,
   "id": "00280a6e-b8d1-4191-8de8-7b5a5e4bedc1",
   "metadata": {
    "tags": []
   },
   "outputs": [],
   "source": [
    "perf_indice_compose=pd.DataFrame()\n",
    "perf_indice_compose['performance']=np.sum(weights_indice*indice_reconstruit_perf,axis=1)"
   ]
  },
  {
   "cell_type": "markdown",
   "id": "32bd0547-2146-4d7c-8e19-cea276ff10d1",
   "metadata": {},
   "source": [
    "# Fonctions"
   ]
  },
  {
   "cell_type": "code",
   "execution_count": 27,
   "id": "8c874040-d0fc-4fc3-a965-d11aa156e705",
   "metadata": {},
   "outputs": [],
   "source": [
    "# Variance d'un ptf\n",
    "def variance(poids,matrice_cov):\n",
    "    return np.dot(poids.T,np.dot(matrice_cov,poids))"
   ]
  },
  {
   "cell_type": "code",
   "execution_count": 28,
   "id": "88b28560-4d5e-4ed7-8691-bfac05722bfc",
   "metadata": {},
   "outputs": [],
   "source": [
    "# Variance marginale d'une ligne dans le ptf\n",
    "def marginal_variance(weights,volatilité,covariances,index):\n",
    "    \n",
    "    VEC_VAR=weights[index]**2*volatilité[index]**2\n",
    "    COVARS=0\n",
    "    var=0\n",
    "    \n",
    "    for i in range(index+1,len(covariances)):\n",
    "        \n",
    "        COVARS+=covariances[i,index]*weights[index]*weights[i]\n",
    "          \n",
    "    var=COVARS*2 + VEC_VAR\n",
    "    \n",
    "    return var"
   ]
  },
  {
   "cell_type": "markdown",
   "id": "1a7eba08-bb73-45a4-be25-967aa80fce15",
   "metadata": {
    "tags": []
   },
   "source": [
    "### Monte Carlo "
   ]
  },
  {
   "cell_type": "code",
   "execution_count": 29,
   "id": "89eb7cf7-fc81-4c93-82b4-9a561092858e",
   "metadata": {},
   "outputs": [],
   "source": [
    "# Fonction qui fait une simulation de Monte Carlo\n",
    "def Monte_Carlo(stocks,facteurs,randoms,t):\n",
    "    # Fonction qui dépend d'un dictionnaire qui associe actions -> devise, des facteurs de vols/drifts, des epsilons et de l'horizon temporel\n",
    "    Monte_Carlo=pd.DataFrame()\n",
    "    \n",
    "    \n",
    "    for asset in stocks.keys():\n",
    "    # Pour chaque actif qui n'est pas une devise    \n",
    "        if asset not in FX.columns:\n",
    "            \n",
    "            # Si l'actif est coté en EUROS\n",
    "            if facteurs.loc[asset]['dev']=='EUR':\n",
    "                Monte_Carlo[asset]=facteurs.loc[asset]['spot']*facteurs.loc[asset]['drift']*np.exp((randoms[asset]*facteurs.loc[asset]['vol']*np.sqrt(t)).astype(float))\n",
    "\n",
    "            else:\n",
    "            # Sinon conversion, prise en compte de l'effet quanto\n",
    "                devise_asset=stocks[asset]\n",
    "                asset_effect=facteurs.loc[asset]['spot']*facteurs.loc[asset]['drift']*np.exp((randoms[asset]*facteurs.loc[asset]['vol']*np.sqrt(t)).astype(float))\n",
    "                Monte_Carlo[asset]=asset_effect*facteurs.loc[asset]['q adj']\n",
    "\n",
    "\n",
    "        else:\n",
    "            #Si l'actif en question est une devise\n",
    "            if asset!='EUREUR':\n",
    "                Monte_Carlo[asset]=facteurs.loc[asset]['spot']*facteurs.loc[asset]['drift']*np.exp(randoms[asset]*facteurs.loc[asset]['vol']*np.sqrt(t))\n",
    "\n",
    "            else:\n",
    "                Monte_Carlo[asset]=1\n",
    "    \n",
    "    return Monte_Carlo"
   ]
  },
  {
   "cell_type": "code",
   "execution_count": 30,
   "id": "3ec11155-2706-411d-a1ed-0be114c48763",
   "metadata": {},
   "outputs": [],
   "source": [
    "def performance(monte_carlo,facteurs):\n",
    "    \n",
    "    # Calcule le log-rendement du Monte Carlo par rapport au spot\n",
    "    performance=pd.DataFrame()\n",
    "    for columns in monte_carlo.columns:\n",
    "        if columns!='EUREUR':\n",
    "            performance[columns]=monte_carlo[columns]/facteurs.loc[columns]['spot']\n",
    "            \n",
    "        else:\n",
    "            performance[columns]=monte_carlo[columns]\n",
    "            \n",
    "    performance=np.log(performance)\n",
    "    \n",
    "    return performance"
   ]
  },
  {
   "cell_type": "code",
   "execution_count": 31,
   "id": "c90b6117-6baf-4400-a578-2dad0c4b46f1",
   "metadata": {},
   "outputs": [],
   "source": [
    "def portefeuille(poids_dict,perf_simulation):\n",
    "    \n",
    "    # Permet de faire le produit des poids par le vecteurs de performance, permet de reajuster l'ordre des poids par rapport aux colonne de la performance des actifs\n",
    "    weights=[]\n",
    "    for col in perf_simulation:\n",
    "        weights.append(poids_dict[col])\n",
    "    weights=np.array(weights)\n",
    "    performance_portefeuille=pd.DataFrame()\n",
    "    performance_portefeuille['performance']=np.sum(weights*perf_simulation,axis=1)\n",
    "    \n",
    "    return performance_portefeuille"
   ]
  },
  {
   "cell_type": "markdown",
   "id": "4ef12b66-885f-4389-85cb-9db42dc985f4",
   "metadata": {},
   "source": [
    "### Calcul de VaR"
   ]
  },
  {
   "cell_type": "code",
   "execution_count": 32,
   "id": "8eec4d73-84b7-4b26-9a61-82cf6a00cc37",
   "metadata": {},
   "outputs": [],
   "source": [
    "def VaR_CVar(perf):\n",
    "    #Renvoie la VaR et CVaR\n",
    "    VaR=np.percentile(perf,5)\n",
    "    CVaR=perf[perf<VaR].mean()\n",
    "\n",
    "        \n",
    "    return VaR,CVaR\n",
    "    "
   ]
  },
  {
   "cell_type": "markdown",
   "id": "95122985-1fc2-439a-be83-1468eff75bfe",
   "metadata": {},
   "source": [
    "# Question 1 : Expositions aux actions"
   ]
  },
  {
   "cell_type": "code",
   "execution_count": 33,
   "id": "016852a9-1d7a-48da-b97d-8b175e4e563b",
   "metadata": {},
   "outputs": [],
   "source": [
    "# Exposition =(Montant des actions + futures) / total bilan\n",
    "actions=portfolio[portfolio['type']!='liquidités']['montant eur'].sum()"
   ]
  },
  {
   "cell_type": "code",
   "execution_count": 34,
   "id": "476004de-28de-4154-ae33-4d888a81773d",
   "metadata": {},
   "outputs": [],
   "source": [
    "bilan=portfolio[portfolio['type']!='future']['montant eur'].sum()"
   ]
  },
  {
   "cell_type": "code",
   "execution_count": 35,
   "id": "d99e353e-3155-4feb-87ab-3cc6d81057df",
   "metadata": {},
   "outputs": [
    {
     "data": {
      "text/plain": [
       "97.91346219970326"
      ]
     },
     "execution_count": 35,
     "metadata": {},
     "output_type": "execute_result"
    }
   ],
   "source": [
    "exposition=actions/bilan*100\n",
    "exposition"
   ]
  },
  {
   "cell_type": "markdown",
   "id": "3aa83bd9-5c51-4cae-80b7-89ba3dc7f625",
   "metadata": {
    "tags": []
   },
   "source": [
    "# Question 2 : VaR historique"
   ]
  },
  {
   "cell_type": "markdown",
   "id": "b7c9fea5-a27e-46d2-91f8-bd17930a6750",
   "metadata": {
    "tags": []
   },
   "source": [
    "## a)"
   ]
  },
  {
   "cell_type": "code",
   "execution_count": 36,
   "id": "c23abf58-1fef-4abc-b494-0f0d0e99ccd4",
   "metadata": {},
   "outputs": [],
   "source": [
    "VaR_portfolio=np.percentile(VL['performance'],5)\n",
    "VaR_indice=np.percentile(perf_indice_compose,5)"
   ]
  },
  {
   "cell_type": "code",
   "execution_count": 37,
   "id": "f2d589a0-6ffe-4222-869f-cb1b4364c8c9",
   "metadata": {},
   "outputs": [
    {
     "name": "stdout",
     "output_type": "stream",
     "text": [
      "VaR du portefeuille est de -1.54%  , VaR de l'indice est de -1.3%\n"
     ]
    }
   ],
   "source": [
    "print(\"VaR du portefeuille est de \" + str(round(VaR_portfolio,4)*100)+'%',\" ,\" ,\"VaR de l'indice est de \" + str(round(VaR_indice,4)*100)+'%')"
   ]
  },
  {
   "cell_type": "markdown",
   "id": "277c6d73-9478-43dd-bf6b-eee9ebbc16ad",
   "metadata": {
    "tags": []
   },
   "source": [
    "## b)"
   ]
  },
  {
   "cell_type": "code",
   "execution_count": 38,
   "id": "cb23dcde-eca4-4e17-8afe-162f2f219a2c",
   "metadata": {},
   "outputs": [
    {
     "name": "stdout",
     "output_type": "stream",
     "text": [
      "-0.72%\n"
     ]
    }
   ],
   "source": [
    "VaR_relative=np.percentile(VL['performance']-perf_indice_compose['performance'],5)\n",
    "print(str(round(VaR_relative,4)*100)+'%')"
   ]
  },
  {
   "cell_type": "markdown",
   "id": "e0c6be39-a586-4c48-9a0f-0da1c3fcdd36",
   "metadata": {},
   "source": [
    "## c)"
   ]
  },
  {
   "cell_type": "code",
   "execution_count": 39,
   "id": "35c5a95a-cf65-4a46-b186-eda342edeca8",
   "metadata": {},
   "outputs": [
    {
     "name": "stdout",
     "output_type": "stream",
     "text": [
      "53.06%\n"
     ]
    }
   ],
   "source": [
    "VaR_relative_taux=(1-VaR_relative/VaR_portfolio)\n",
    "print(str(round(VaR_relative_taux*100,2))+'%')"
   ]
  },
  {
   "cell_type": "markdown",
   "id": "2ac0112f-54dd-4ce4-83f7-e234067d2e09",
   "metadata": {
    "tags": []
   },
   "source": [
    "# Question 3 : VaR parametrique"
   ]
  },
  {
   "cell_type": "markdown",
   "id": "79eff574-3cf6-4d35-b068-5eda9a88be87",
   "metadata": {
    "tags": []
   },
   "source": [
    "## a) Indice"
   ]
  },
  {
   "cell_type": "code",
   "execution_count": 40,
   "id": "f2ea6ce7-93eb-4701-be4a-8189e8bd8c72",
   "metadata": {
    "tags": []
   },
   "outputs": [
    {
     "name": "stdout",
     "output_type": "stream",
     "text": [
      "0.15439370641818298 , 0.1537984541306641\n"
     ]
    }
   ],
   "source": [
    "vol_indice=np.sqrt(variance(weights_indice,np.log(1+indice_composed.pct_change()).cov())*252)\n",
    "vol_historique_indice=perf_indice_compose['performance'].std()*np.sqrt(252)\n",
    "print ( vol_indice,',',vol_historique_indice)"
   ]
  },
  {
   "cell_type": "markdown",
   "id": "df3771b8-44b4-44ee-abc6-d2871d266273",
   "metadata": {
    "tags": []
   },
   "source": [
    "## b) Portefeuille"
   ]
  },
  {
   "cell_type": "code",
   "execution_count": 41,
   "id": "e1764782-b44b-4d15-89c8-2265cde027f7",
   "metadata": {},
   "outputs": [
    {
     "name": "stdout",
     "output_type": "stream",
     "text": [
      "0.20773212013916303 , 0.2069391534358266\n"
     ]
    }
   ],
   "source": [
    "volatilité=np.sqrt(variance(poids_ptf,rendements_ptf.cov())*252)\n",
    "volatilité_vl=VL['performance'].std()*np.sqrt(252)\n",
    "print(volatilité,',',volatilité_vl)"
   ]
  },
  {
   "cell_type": "markdown",
   "id": "55dfb8c9-ac17-4995-a180-0695824a4944",
   "metadata": {
    "tags": []
   },
   "source": [
    "# Question 4 : VaR Monte Carlo"
   ]
  },
  {
   "cell_type": "code",
   "execution_count": 42,
   "id": "fb67c9a7-ed58-498e-8498-b279b78f8625",
   "metadata": {},
   "outputs": [],
   "source": [
    "facteurs=control_room.iloc[6:119,22:34]\n",
    "facteurs.columns=control_room.iloc[5,22:34]"
   ]
  },
  {
   "cell_type": "code",
   "execution_count": 43,
   "id": "3c4e1f4d-38a1-4e5e-ae73-7a07bc89c224",
   "metadata": {},
   "outputs": [],
   "source": [
    "facteurs=facteurs.set_index('code')"
   ]
  },
  {
   "cell_type": "code",
   "execution_count": 44,
   "id": "b1ebdf14-44b3-4b22-9c95-2e6eae1c07a8",
   "metadata": {},
   "outputs": [],
   "source": [
    "epsilons=halton.iloc[:,114:]\n",
    "epsilons=epsilons.iloc[1:,:]"
   ]
  },
  {
   "cell_type": "code",
   "execution_count": 45,
   "id": "91dc6c8c-912c-4dea-bf71-bdcd919829d1",
   "metadata": {},
   "outputs": [],
   "source": [
    "epsilons.columns=facteurs.index"
   ]
  },
  {
   "cell_type": "code",
   "execution_count": 46,
   "id": "4d8c23ee-097d-432c-b9e0-e391dd2d4275",
   "metadata": {},
   "outputs": [],
   "source": [
    "haltons=halton.iloc[1:,:113]\n",
    "haltons.columns=facteurs.index"
   ]
  },
  {
   "cell_type": "code",
   "execution_count": 47,
   "id": "7aaad90b-f967-49d7-97b0-aa6bd7685cf1",
   "metadata": {},
   "outputs": [],
   "source": [
    "t=20/250"
   ]
  },
  {
   "cell_type": "markdown",
   "id": "dce81741-3f0d-478c-8125-9b2b9acea90c",
   "metadata": {},
   "source": [
    "## a)"
   ]
  },
  {
   "cell_type": "code",
   "execution_count": 48,
   "id": "095908af-5540-4a53-a0cf-4e9378874c95",
   "metadata": {
    "tags": []
   },
   "outputs": [
    {
     "data": {
      "text/html": [
       "<div>\n",
       "<style scoped>\n",
       "    .dataframe tbody tr th:only-of-type {\n",
       "        vertical-align: middle;\n",
       "    }\n",
       "\n",
       "    .dataframe tbody tr th {\n",
       "        vertical-align: top;\n",
       "    }\n",
       "\n",
       "    .dataframe thead th {\n",
       "        text-align: right;\n",
       "    }\n",
       "</style>\n",
       "<table border=\"1\" class=\"dataframe\">\n",
       "  <thead>\n",
       "    <tr style=\"text-align: right;\">\n",
       "      <th></th>\n",
       "      <th>ASML NA</th>\n",
       "      <th>SAP GY</th>\n",
       "      <th>NESN SW</th>\n",
       "      <th>MC FP</th>\n",
       "      <th>URW NA</th>\n",
       "      <th>HSBA LN</th>\n",
       "      <th>FP FP</th>\n",
       "      <th>NOVN SW</th>\n",
       "      <th>BP/ LN</th>\n",
       "      <th>LIN GY</th>\n",
       "      <th>...</th>\n",
       "      <th>BNP FP</th>\n",
       "      <th>ALV GY</th>\n",
       "      <th>GLE FP</th>\n",
       "      <th>RIO LN</th>\n",
       "      <th>CGG FP</th>\n",
       "      <th>EUREUR</th>\n",
       "      <th>CHFEUR</th>\n",
       "      <th>GBpEUR</th>\n",
       "      <th>DKKEUR</th>\n",
       "      <th>SX5E</th>\n",
       "    </tr>\n",
       "  </thead>\n",
       "  <tbody>\n",
       "    <tr>\n",
       "      <th>1</th>\n",
       "      <td>509.035274</td>\n",
       "      <td>111.430174</td>\n",
       "      <td>101.992548</td>\n",
       "      <td>574.314544</td>\n",
       "      <td>71.014434</td>\n",
       "      <td>4.275393</td>\n",
       "      <td>38.656658</td>\n",
       "      <td>75.509227</td>\n",
       "      <td>3.402859</td>\n",
       "      <td>247.293253</td>\n",
       "      <td>...</td>\n",
       "      <td>56.952327</td>\n",
       "      <td>222.075988</td>\n",
       "      <td>24.759710</td>\n",
       "      <td>69.047370</td>\n",
       "      <td>0.942752</td>\n",
       "      <td>1</td>\n",
       "      <td>0.899820</td>\n",
       "      <td>1.152935</td>\n",
       "      <td>0.134928</td>\n",
       "      <td>3968.839959</td>\n",
       "    </tr>\n",
       "    <tr>\n",
       "      <th>2</th>\n",
       "      <td>477.176931</td>\n",
       "      <td>105.230572</td>\n",
       "      <td>107.864647</td>\n",
       "      <td>541.494813</td>\n",
       "      <td>62.061915</td>\n",
       "      <td>3.409012</td>\n",
       "      <td>34.927909</td>\n",
       "      <td>76.381677</td>\n",
       "      <td>2.840711</td>\n",
       "      <td>230.476778</td>\n",
       "      <td>...</td>\n",
       "      <td>41.260542</td>\n",
       "      <td>198.664916</td>\n",
       "      <td>17.773766</td>\n",
       "      <td>47.222293</td>\n",
       "      <td>0.865952</td>\n",
       "      <td>1</td>\n",
       "      <td>0.889816</td>\n",
       "      <td>1.154835</td>\n",
       "      <td>0.134453</td>\n",
       "      <td>3660.287898</td>\n",
       "    </tr>\n",
       "    <tr>\n",
       "      <th>3</th>\n",
       "      <td>562.812061</td>\n",
       "      <td>105.647895</td>\n",
       "      <td>114.327983</td>\n",
       "      <td>598.619152</td>\n",
       "      <td>51.277377</td>\n",
       "      <td>4.611625</td>\n",
       "      <td>32.738357</td>\n",
       "      <td>85.691605</td>\n",
       "      <td>2.418412</td>\n",
       "      <td>261.300748</td>\n",
       "      <td>...</td>\n",
       "      <td>45.938621</td>\n",
       "      <td>214.393405</td>\n",
       "      <td>19.514184</td>\n",
       "      <td>63.194429</td>\n",
       "      <td>0.830249</td>\n",
       "      <td>1</td>\n",
       "      <td>0.902857</td>\n",
       "      <td>1.104783</td>\n",
       "      <td>0.134699</td>\n",
       "      <td>3964.068542</td>\n",
       "    </tr>\n",
       "    <tr>\n",
       "      <th>4</th>\n",
       "      <td>517.902730</td>\n",
       "      <td>124.700847</td>\n",
       "      <td>101.194357</td>\n",
       "      <td>552.799855</td>\n",
       "      <td>51.962892</td>\n",
       "      <td>4.285928</td>\n",
       "      <td>33.346100</td>\n",
       "      <td>76.623357</td>\n",
       "      <td>2.736936</td>\n",
       "      <td>222.801986</td>\n",
       "      <td>...</td>\n",
       "      <td>42.935025</td>\n",
       "      <td>198.917468</td>\n",
       "      <td>18.101868</td>\n",
       "      <td>63.996345</td>\n",
       "      <td>0.979667</td>\n",
       "      <td>1</td>\n",
       "      <td>0.912272</td>\n",
       "      <td>1.124582</td>\n",
       "      <td>0.133875</td>\n",
       "      <td>3717.028492</td>\n",
       "    </tr>\n",
       "    <tr>\n",
       "      <th>5</th>\n",
       "      <td>453.551988</td>\n",
       "      <td>93.817374</td>\n",
       "      <td>109.842407</td>\n",
       "      <td>611.085816</td>\n",
       "      <td>85.709853</td>\n",
       "      <td>4.445495</td>\n",
       "      <td>49.485638</td>\n",
       "      <td>80.344707</td>\n",
       "      <td>4.293484</td>\n",
       "      <td>240.976963</td>\n",
       "      <td>...</td>\n",
       "      <td>61.020804</td>\n",
       "      <td>236.999839</td>\n",
       "      <td>26.762569</td>\n",
       "      <td>58.482270</td>\n",
       "      <td>1.726050</td>\n",
       "      <td>1</td>\n",
       "      <td>0.908131</td>\n",
       "      <td>1.150164</td>\n",
       "      <td>0.134266</td>\n",
       "      <td>4073.275858</td>\n",
       "    </tr>\n",
       "    <tr>\n",
       "      <th>...</th>\n",
       "      <td>...</td>\n",
       "      <td>...</td>\n",
       "      <td>...</td>\n",
       "      <td>...</td>\n",
       "      <td>...</td>\n",
       "      <td>...</td>\n",
       "      <td>...</td>\n",
       "      <td>...</td>\n",
       "      <td>...</td>\n",
       "      <td>...</td>\n",
       "      <td>...</td>\n",
       "      <td>...</td>\n",
       "      <td>...</td>\n",
       "      <td>...</td>\n",
       "      <td>...</td>\n",
       "      <td>...</td>\n",
       "      <td>...</td>\n",
       "      <td>...</td>\n",
       "      <td>...</td>\n",
       "      <td>...</td>\n",
       "      <td>...</td>\n",
       "    </tr>\n",
       "    <tr>\n",
       "      <th>9996</th>\n",
       "      <td>507.524605</td>\n",
       "      <td>96.240276</td>\n",
       "      <td>102.917070</td>\n",
       "      <td>553.608537</td>\n",
       "      <td>78.907373</td>\n",
       "      <td>4.169939</td>\n",
       "      <td>38.406756</td>\n",
       "      <td>78.562460</td>\n",
       "      <td>3.093078</td>\n",
       "      <td>232.800400</td>\n",
       "      <td>...</td>\n",
       "      <td>45.281849</td>\n",
       "      <td>206.728254</td>\n",
       "      <td>21.223055</td>\n",
       "      <td>66.076337</td>\n",
       "      <td>0.987257</td>\n",
       "      <td>1</td>\n",
       "      <td>0.900611</td>\n",
       "      <td>1.156529</td>\n",
       "      <td>0.134558</td>\n",
       "      <td>3715.399330</td>\n",
       "    </tr>\n",
       "    <tr>\n",
       "      <th>9997</th>\n",
       "      <td>549.013167</td>\n",
       "      <td>108.479573</td>\n",
       "      <td>103.813093</td>\n",
       "      <td>593.013797</td>\n",
       "      <td>52.131768</td>\n",
       "      <td>4.340053</td>\n",
       "      <td>34.929345</td>\n",
       "      <td>70.026566</td>\n",
       "      <td>2.989638</td>\n",
       "      <td>229.777066</td>\n",
       "      <td>...</td>\n",
       "      <td>46.589633</td>\n",
       "      <td>208.959600</td>\n",
       "      <td>21.324600</td>\n",
       "      <td>62.110193</td>\n",
       "      <td>1.088458</td>\n",
       "      <td>1</td>\n",
       "      <td>0.920073</td>\n",
       "      <td>1.102876</td>\n",
       "      <td>0.134580</td>\n",
       "      <td>3750.766197</td>\n",
       "    </tr>\n",
       "    <tr>\n",
       "      <th>9998</th>\n",
       "      <td>511.771892</td>\n",
       "      <td>105.251397</td>\n",
       "      <td>106.749289</td>\n",
       "      <td>588.792577</td>\n",
       "      <td>85.668127</td>\n",
       "      <td>4.616406</td>\n",
       "      <td>40.978609</td>\n",
       "      <td>80.655690</td>\n",
       "      <td>3.305928</td>\n",
       "      <td>223.201933</td>\n",
       "      <td>...</td>\n",
       "      <td>54.494126</td>\n",
       "      <td>214.649493</td>\n",
       "      <td>23.572524</td>\n",
       "      <td>54.949836</td>\n",
       "      <td>1.069126</td>\n",
       "      <td>1</td>\n",
       "      <td>0.909238</td>\n",
       "      <td>1.167098</td>\n",
       "      <td>0.134379</td>\n",
       "      <td>3929.624314</td>\n",
       "    </tr>\n",
       "    <tr>\n",
       "      <th>9999</th>\n",
       "      <td>600.112070</td>\n",
       "      <td>127.448504</td>\n",
       "      <td>114.050991</td>\n",
       "      <td>592.767811</td>\n",
       "      <td>58.349772</td>\n",
       "      <td>4.668955</td>\n",
       "      <td>38.044586</td>\n",
       "      <td>83.783543</td>\n",
       "      <td>2.953615</td>\n",
       "      <td>253.520515</td>\n",
       "      <td>...</td>\n",
       "      <td>50.177905</td>\n",
       "      <td>227.469004</td>\n",
       "      <td>22.811501</td>\n",
       "      <td>53.935510</td>\n",
       "      <td>1.128979</td>\n",
       "      <td>1</td>\n",
       "      <td>0.914431</td>\n",
       "      <td>1.121917</td>\n",
       "      <td>0.134591</td>\n",
       "      <td>4230.520457</td>\n",
       "    </tr>\n",
       "    <tr>\n",
       "      <th>10000</th>\n",
       "      <td>442.720916</td>\n",
       "      <td>93.508585</td>\n",
       "      <td>103.742282</td>\n",
       "      <td>515.423614</td>\n",
       "      <td>72.482846</td>\n",
       "      <td>4.085303</td>\n",
       "      <td>33.732066</td>\n",
       "      <td>81.664997</td>\n",
       "      <td>2.639528</td>\n",
       "      <td>217.384588</td>\n",
       "      <td>...</td>\n",
       "      <td>44.798285</td>\n",
       "      <td>188.616532</td>\n",
       "      <td>18.316305</td>\n",
       "      <td>48.245195</td>\n",
       "      <td>1.070734</td>\n",
       "      <td>1</td>\n",
       "      <td>0.905754</td>\n",
       "      <td>1.133054</td>\n",
       "      <td>0.134317</td>\n",
       "      <td>3533.174434</td>\n",
       "    </tr>\n",
       "  </tbody>\n",
       "</table>\n",
       "<p>10000 rows × 25 columns</p>\n",
       "</div>"
      ],
      "text/plain": [
       "          ASML NA      SAP GY     NESN SW       MC FP     URW NA   HSBA LN  \\\n",
       "1      509.035274  111.430174  101.992548  574.314544  71.014434  4.275393   \n",
       "2      477.176931  105.230572  107.864647  541.494813  62.061915  3.409012   \n",
       "3      562.812061  105.647895  114.327983  598.619152  51.277377  4.611625   \n",
       "4      517.902730  124.700847  101.194357  552.799855  51.962892  4.285928   \n",
       "5      453.551988   93.817374  109.842407  611.085816  85.709853  4.445495   \n",
       "...           ...         ...         ...         ...        ...       ...   \n",
       "9996   507.524605   96.240276  102.917070  553.608537  78.907373  4.169939   \n",
       "9997   549.013167  108.479573  103.813093  593.013797  52.131768  4.340053   \n",
       "9998   511.771892  105.251397  106.749289  588.792577  85.668127  4.616406   \n",
       "9999   600.112070  127.448504  114.050991  592.767811  58.349772  4.668955   \n",
       "10000  442.720916   93.508585  103.742282  515.423614  72.482846  4.085303   \n",
       "\n",
       "           FP FP    NOVN SW    BP/ LN      LIN GY  ...     BNP FP      ALV GY  \\\n",
       "1      38.656658  75.509227  3.402859  247.293253  ...  56.952327  222.075988   \n",
       "2      34.927909  76.381677  2.840711  230.476778  ...  41.260542  198.664916   \n",
       "3      32.738357  85.691605  2.418412  261.300748  ...  45.938621  214.393405   \n",
       "4      33.346100  76.623357  2.736936  222.801986  ...  42.935025  198.917468   \n",
       "5      49.485638  80.344707  4.293484  240.976963  ...  61.020804  236.999839   \n",
       "...          ...        ...       ...         ...  ...        ...         ...   \n",
       "9996   38.406756  78.562460  3.093078  232.800400  ...  45.281849  206.728254   \n",
       "9997   34.929345  70.026566  2.989638  229.777066  ...  46.589633  208.959600   \n",
       "9998   40.978609  80.655690  3.305928  223.201933  ...  54.494126  214.649493   \n",
       "9999   38.044586  83.783543  2.953615  253.520515  ...  50.177905  227.469004   \n",
       "10000  33.732066  81.664997  2.639528  217.384588  ...  44.798285  188.616532   \n",
       "\n",
       "          GLE FP     RIO LN    CGG FP  EUREUR    CHFEUR    GBpEUR    DKKEUR  \\\n",
       "1      24.759710  69.047370  0.942752       1  0.899820  1.152935  0.134928   \n",
       "2      17.773766  47.222293  0.865952       1  0.889816  1.154835  0.134453   \n",
       "3      19.514184  63.194429  0.830249       1  0.902857  1.104783  0.134699   \n",
       "4      18.101868  63.996345  0.979667       1  0.912272  1.124582  0.133875   \n",
       "5      26.762569  58.482270  1.726050       1  0.908131  1.150164  0.134266   \n",
       "...          ...        ...       ...     ...       ...       ...       ...   \n",
       "9996   21.223055  66.076337  0.987257       1  0.900611  1.156529  0.134558   \n",
       "9997   21.324600  62.110193  1.088458       1  0.920073  1.102876  0.134580   \n",
       "9998   23.572524  54.949836  1.069126       1  0.909238  1.167098  0.134379   \n",
       "9999   22.811501  53.935510  1.128979       1  0.914431  1.121917  0.134591   \n",
       "10000  18.316305  48.245195  1.070734       1  0.905754  1.133054  0.134317   \n",
       "\n",
       "              SX5E  \n",
       "1      3968.839959  \n",
       "2      3660.287898  \n",
       "3      3964.068542  \n",
       "4      3717.028492  \n",
       "5      4073.275858  \n",
       "...            ...  \n",
       "9996   3715.399330  \n",
       "9997   3750.766197  \n",
       "9998   3929.624314  \n",
       "9999   4230.520457  \n",
       "10000  3533.174434  \n",
       "\n",
       "[10000 rows x 25 columns]"
      ]
     },
     "execution_count": 48,
     "metadata": {},
     "output_type": "execute_result"
    }
   ],
   "source": [
    "monte_carlo=Monte_Carlo(devise_ptf,facteurs,epsilons,t)\n",
    "monte_carlo"
   ]
  },
  {
   "cell_type": "markdown",
   "id": "845a7f98-ca9e-4d35-aac9-09a03faa481d",
   "metadata": {},
   "source": [
    "## b)"
   ]
  },
  {
   "cell_type": "markdown",
   "id": "7f88fb20-f376-4323-ba31-1d106a13fbe5",
   "metadata": {},
   "source": [
    "## VaR Portefeuille"
   ]
  },
  {
   "cell_type": "code",
   "execution_count": 49,
   "id": "17b775ca-2aea-4fe2-bd5f-67b075cb8093",
   "metadata": {},
   "outputs": [],
   "source": [
    "perf=performance(monte_carlo,facteurs)"
   ]
  },
  {
   "cell_type": "code",
   "execution_count": 50,
   "id": "72c14bc3-8385-4bca-80b4-9e0b1aa53a0d",
   "metadata": {},
   "outputs": [],
   "source": [
    "portefeuille_monte_carlo=portefeuille(positions,perf)"
   ]
  },
  {
   "cell_type": "code",
   "execution_count": 51,
   "id": "edba7417-7ee8-461a-b842-f0dae1672ee5",
   "metadata": {},
   "outputs": [
    {
     "data": {
      "text/plain": [
       "(-0.10370683924800836,\n",
       " performance   -0.128756\n",
       " dtype: float64)"
      ]
     },
     "execution_count": 51,
     "metadata": {},
     "output_type": "execute_result"
    }
   ],
   "source": [
    "VaR_CVar(portefeuille_monte_carlo)"
   ]
  },
  {
   "cell_type": "code",
   "execution_count": 52,
   "id": "6cd3d3a0-3ac8-4038-ada0-f24b113423ff",
   "metadata": {},
   "outputs": [
    {
     "name": "stdout",
     "output_type": "stream",
     "text": [
      "VaR du portefeuille est de -10.371%\n",
      "CVaR du portefeuille est de -12.876%\n"
     ]
    }
   ],
   "source": [
    "print(\"VaR du portefeuille est de \" +str(round(VaR_CVar(portefeuille_monte_carlo)[0]*100,3)) + \"%\")\n",
    "print(\"CVaR du portefeuille est de \" +str(round(VaR_CVar(portefeuille_monte_carlo)[1][0]*100,3)) + \"%\")"
   ]
  },
  {
   "cell_type": "markdown",
   "id": "52b8e87b-f143-443c-89bd-db1ae41ed7b2",
   "metadata": {},
   "source": [
    "### VaR indice"
   ]
  },
  {
   "cell_type": "code",
   "execution_count": 53,
   "id": "63da822f-6ea1-4c79-8493-1a0f161f484f",
   "metadata": {},
   "outputs": [],
   "source": [
    "monte_carlo_indice=Monte_Carlo(devise_indice,facteurs,epsilons,t)"
   ]
  },
  {
   "cell_type": "code",
   "execution_count": 54,
   "id": "c90e7f3b-946e-4ab7-a02a-0d3ce42b8d43",
   "metadata": {},
   "outputs": [],
   "source": [
    "perf_monte_carlo_actions=performance(monte_carlo_indice,facteurs)"
   ]
  },
  {
   "cell_type": "code",
   "execution_count": 55,
   "id": "7323a855-8271-44d3-8fdd-d5d717ee69ea",
   "metadata": {},
   "outputs": [
    {
     "data": {
      "text/plain": [
       "(-0.07804323238887537,\n",
       " performance   -0.096633\n",
       " dtype: float64)"
      ]
     },
     "execution_count": 55,
     "metadata": {},
     "output_type": "execute_result"
    }
   ],
   "source": [
    "perf_indice_monte_carlo=portefeuille(poids_indice,perf_monte_carlo_actions)\n",
    "VaR_CVar(perf_indice_monte_carlo)"
   ]
  },
  {
   "cell_type": "code",
   "execution_count": 56,
   "id": "b6cd6ea2-683f-4262-bf20-1436d03bc9fa",
   "metadata": {},
   "outputs": [
    {
     "name": "stdout",
     "output_type": "stream",
     "text": [
      "VaR de l'indice est de -7.804%\n",
      "CVaR de l'indice est de -9.663%\n"
     ]
    }
   ],
   "source": [
    "print(\"VaR de l'indice est de \" +str(round(VaR_CVar(perf_indice_monte_carlo)[0]*100,3)) + \"%\")\n",
    "print(\"CVaR de l'indice est de \" +str(round(VaR_CVar(perf_indice_monte_carlo)[1][0]*100,3)) + \"%\")"
   ]
  },
  {
   "cell_type": "markdown",
   "id": "dcfc198c-c957-42fc-955b-ceeabe2cecc2",
   "metadata": {},
   "source": [
    "### VaR relative et CVaR"
   ]
  },
  {
   "cell_type": "code",
   "execution_count": 57,
   "id": "feb77c5d-aa14-4269-bc35-52c90326774e",
   "metadata": {},
   "outputs": [
    {
     "data": {
      "text/plain": [
       "(-0.04956580308799596,\n",
       " performance   -0.060617\n",
       " dtype: float64)"
      ]
     },
     "execution_count": 57,
     "metadata": {},
     "output_type": "execute_result"
    }
   ],
   "source": [
    "performance_relative=pd.DataFrame()\n",
    "performance_relative['performance']=portefeuille_monte_carlo['performance']-perf_indice_monte_carlo['performance']\n",
    "VaR_CVar(performance_relative)"
   ]
  },
  {
   "cell_type": "code",
   "execution_count": 58,
   "id": "127ed938-6bce-442c-bc5c-8013241efdd0",
   "metadata": {},
   "outputs": [
    {
     "name": "stdout",
     "output_type": "stream",
     "text": [
      "VaR relative est de -4.957%\n",
      "CVaR relative est de -6.062%\n"
     ]
    }
   ],
   "source": [
    "print(\"VaR relative est de \" +str(round(VaR_CVar(performance_relative)[0]*100,3)) + \"%\")\n",
    "print(\"CVaR relative est de \" +str(round(VaR_CVar(performance_relative)[1][0]*100,3)) + \"%\")"
   ]
  },
  {
   "cell_type": "markdown",
   "id": "b7ccd2c8-148c-43b0-b8d6-7135f880ac67",
   "metadata": {},
   "source": [
    "## Question 5) Stress Tests"
   ]
  },
  {
   "cell_type": "markdown",
   "id": "3ab421b0-4c25-40f0-ab46-ec95ff42ab8a",
   "metadata": {},
   "source": [
    "## a)"
   ]
  },
  {
   "cell_type": "code",
   "execution_count": 59,
   "id": "e497adc2-a521-45f4-a737-4b5872ae90a1",
   "metadata": {},
   "outputs": [],
   "source": [
    "# Copie des facteurs non stressé\n",
    "stress_test=facteurs.copy()\n",
    "\n",
    "# Multiplication de la vol par 1.5\n",
    "stress_test['vol']=stress_test['vol']*1.5"
   ]
  },
  {
   "cell_type": "code",
   "execution_count": 60,
   "id": "8a743a6a-8ba3-437e-b9d9-b056abb5941f",
   "metadata": {},
   "outputs": [],
   "source": [
    "# Ajustement de la corrélation, drift du au changement de volatilité\n",
    "for i in range(len(stress_test)):\n",
    "    if stress_test.iloc[i,1]!='EUR':\n",
    "        stress_test.iloc[i,6]=np.exp(-0.5*stress_test.iloc[i,3]*stress_test.iloc[i,4]**2*t)\n",
    "        \n",
    "    else: \n",
    "        stress_test.iloc[i,6]=1"
   ]
  },
  {
   "cell_type": "markdown",
   "id": "6adce8d4-8d4f-462e-a524-0f0e03cee63d",
   "metadata": {},
   "source": [
    "### VaR portefeuille stressé"
   ]
  },
  {
   "cell_type": "code",
   "execution_count": 61,
   "id": "e06aaa55-0ddb-4dd1-9800-116802834f0c",
   "metadata": {},
   "outputs": [],
   "source": [
    "monte_carlo_stress=Monte_Carlo(devise_ptf,stress_test,epsilons,t)"
   ]
  },
  {
   "cell_type": "code",
   "execution_count": 62,
   "id": "3e4963ef-c355-4c96-ad3a-784137d2e12e",
   "metadata": {},
   "outputs": [],
   "source": [
    "perf=performance(monte_carlo_stress,stress_test)\n",
    "portefeuille_monte_carlo=portefeuille(positions,perf)"
   ]
  },
  {
   "cell_type": "code",
   "execution_count": 63,
   "id": "74aa3d09-9b73-4176-b6a5-755f14fb75c9",
   "metadata": {},
   "outputs": [
    {
     "data": {
      "text/plain": [
       "(-0.23594993605423473,\n",
       " performance   -0.273523\n",
       " dtype: float64)"
      ]
     },
     "execution_count": 63,
     "metadata": {},
     "output_type": "execute_result"
    }
   ],
   "source": [
    "VaR_CVar(portefeuille_monte_carlo)"
   ]
  },
  {
   "cell_type": "code",
   "execution_count": 64,
   "id": "ee8bb8b2-e475-473e-96b2-2f07820f0049",
   "metadata": {},
   "outputs": [
    {
     "name": "stdout",
     "output_type": "stream",
     "text": [
      "VaR portefeuille stressé est de -23.595%\n",
      "CVaR portefeuille stressé est de -27.352%\n"
     ]
    }
   ],
   "source": [
    "print(\"VaR portefeuille stressé est de \" +str(round(VaR_CVar(portefeuille_monte_carlo)[0]*100,3)) + \"%\")\n",
    "print(\"CVaR portefeuille stressé est de \" +str(round(VaR_CVar(portefeuille_monte_carlo)[1][0]*100,3)) + \"%\")"
   ]
  },
  {
   "cell_type": "markdown",
   "id": "b7b17cdb-8d8f-425e-a60d-d8257bed3015",
   "metadata": {},
   "source": [
    "### VaR indice stressé"
   ]
  },
  {
   "cell_type": "code",
   "execution_count": 65,
   "id": "65ae6e4d-95bd-4118-a090-b39d7278eb52",
   "metadata": {},
   "outputs": [],
   "source": [
    "monte_carlo_indice=Monte_Carlo(devise_indice,stress_test,epsilons,t)\n",
    "perf_monte_carlo_actions=performance(monte_carlo_indice,stress_test)\n",
    "perf_indice_monte_carlo=portefeuille(poids_indice,perf_monte_carlo_actions)"
   ]
  },
  {
   "cell_type": "code",
   "execution_count": 66,
   "id": "d09a1f04-77f8-45ed-873e-560ab1f2d213",
   "metadata": {},
   "outputs": [
    {
     "data": {
      "text/plain": [
       "(-0.3262065795235325,\n",
       " performance   -0.354091\n",
       " dtype: float64)"
      ]
     },
     "execution_count": 66,
     "metadata": {},
     "output_type": "execute_result"
    }
   ],
   "source": [
    "VaR_CVar(perf_indice_monte_carlo)"
   ]
  },
  {
   "cell_type": "code",
   "execution_count": 67,
   "id": "8a3cf3b1-7b36-467c-bb9d-f01fbde34648",
   "metadata": {},
   "outputs": [
    {
     "name": "stdout",
     "output_type": "stream",
     "text": [
      "VaR de l'indice stressé est de -32.621%\n",
      "CVaR de l'indice stressé est de -35.409%\n"
     ]
    }
   ],
   "source": [
    "print(\"VaR de l'indice stressé est de \" +str(round(VaR_CVar(perf_indice_monte_carlo)[0]*100,3)) + \"%\")\n",
    "print(\"CVaR de l'indice stressé est de \" +str(round(VaR_CVar(perf_indice_monte_carlo)[1][0]*100,3)) + \"%\")"
   ]
  },
  {
   "cell_type": "markdown",
   "id": "48760295-1a78-4796-babf-3f6ec40f03bb",
   "metadata": {},
   "source": [
    "### VaR relative et CVaR stressée"
   ]
  },
  {
   "cell_type": "code",
   "execution_count": 68,
   "id": "4de3fc19-1323-4960-b49f-72f28fa9f756",
   "metadata": {},
   "outputs": [
    {
     "data": {
      "text/plain": [
       "(0.0544033491260033,\n",
       " performance    0.037827\n",
       " dtype: float64)"
      ]
     },
     "execution_count": 68,
     "metadata": {},
     "output_type": "execute_result"
    }
   ],
   "source": [
    "perf_relative_stress=pd.DataFrame()\n",
    "perf_relative_stress['performance']=portefeuille_monte_carlo['performance']-perf_indice_monte_carlo['performance']\n",
    "\n",
    "VaR_CVar(perf_relative_stress)"
   ]
  },
  {
   "cell_type": "code",
   "execution_count": 69,
   "id": "433a42d9-05da-42e8-830b-25e9457b8a54",
   "metadata": {},
   "outputs": [
    {
     "name": "stdout",
     "output_type": "stream",
     "text": [
      "VaR relative stressé est de 5.44%\n",
      "CVaR relative stressé est de 3.783%\n"
     ]
    }
   ],
   "source": [
    "print(\"VaR relative stressé est de \" +str(round(VaR_CVar(perf_relative_stress)[0]*100,3)) + \"%\")\n",
    "print(\"CVaR relative stressé est de \" +str(round(VaR_CVar(perf_relative_stress)[1][0]*100,3)) + \"%\")"
   ]
  },
  {
   "cell_type": "markdown",
   "id": "368325ba-4aea-4868-982b-34eb42dad814",
   "metadata": {},
   "source": [
    "## b)"
   ]
  },
  {
   "cell_type": "markdown",
   "id": "05e9d590-6b5a-4825-a28e-206b6ebd1268",
   "metadata": {},
   "source": [
    "## Vols initiales"
   ]
  },
  {
   "cell_type": "markdown",
   "id": "667ce0ec-47f1-4bb8-8059-19c24720deb5",
   "metadata": {},
   "source": [
    "### Portefeuille"
   ]
  },
  {
   "cell_type": "code",
   "execution_count": 70,
   "id": "ff8cddfb-59d4-42d3-aa84-524d05f321a4",
   "metadata": {},
   "outputs": [],
   "source": [
    "monte_carlo=Monte_Carlo(devise_ptf,facteurs,haltons,t)\n",
    "perf_monte_carlo=performance(monte_carlo,facteurs)\n",
    "portefeuille_monte_carlo=portefeuille(positions,perf_monte_carlo)"
   ]
  },
  {
   "cell_type": "code",
   "execution_count": 71,
   "id": "09c61224-44dd-4e34-b902-d2cbddd4174a",
   "metadata": {},
   "outputs": [
    {
     "data": {
      "text/plain": [
       "(-0.04711140151769446,\n",
       " performance   -0.057528\n",
       " dtype: float64)"
      ]
     },
     "execution_count": 71,
     "metadata": {},
     "output_type": "execute_result"
    }
   ],
   "source": [
    "VaR_CVar(portefeuille_monte_carlo)"
   ]
  },
  {
   "cell_type": "code",
   "execution_count": 72,
   "id": "eb93cddc-cb49-439d-a51a-76adbc07fc54",
   "metadata": {},
   "outputs": [
    {
     "name": "stdout",
     "output_type": "stream",
     "text": [
      "VaR portefeuille est de -4.711%\n",
      "CVaR du portefeuille est de -5.753%\n"
     ]
    }
   ],
   "source": [
    "print(\"VaR portefeuille est de \" +str(round(VaR_CVar(portefeuille_monte_carlo)[0]*100,3)) + \"%\")\n",
    "print(\"CVaR du portefeuille est de \" +str(round(VaR_CVar(portefeuille_monte_carlo)[1][0]*100,3)) + \"%\")"
   ]
  },
  {
   "cell_type": "markdown",
   "id": "da08e823-3f6c-449e-95de-83f12c0c4e73",
   "metadata": {},
   "source": [
    "### Indice"
   ]
  },
  {
   "cell_type": "code",
   "execution_count": 73,
   "id": "74adef7a-47e8-406c-809c-f861c1e32906",
   "metadata": {},
   "outputs": [
    {
     "data": {
      "text/plain": [
       "(-0.02415021635250824,\n",
       " performance   -0.029434\n",
       " dtype: float64)"
      ]
     },
     "execution_count": 73,
     "metadata": {},
     "output_type": "execute_result"
    }
   ],
   "source": [
    "monte_carlo_indice=Monte_Carlo(devise_indice,facteurs,haltons,t)\n",
    "perf_monte_carlo_actions=performance(monte_carlo_indice,facteurs)\n",
    "perf_indice_monte_carlo=portefeuille(poids_indice,perf_monte_carlo_actions)\n",
    "VaR_CVar(perf_indice_monte_carlo)"
   ]
  },
  {
   "cell_type": "code",
   "execution_count": 74,
   "id": "803aa78a-f0cf-4e7e-bc1b-1add98f04c0c",
   "metadata": {},
   "outputs": [
    {
     "name": "stdout",
     "output_type": "stream",
     "text": [
      "VaR de l'indice est de -2.415%\n",
      "CVaR de l'indice est de -2.943%\n"
     ]
    }
   ],
   "source": [
    "print(\"VaR de l'indice est de \" +str(round(VaR_CVar(perf_indice_monte_carlo)[0]*100,3)) + \"%\")\n",
    "print(\"CVaR de l'indice est de \" +str(round(VaR_CVar(perf_indice_monte_carlo)[1][0]*100,3)) + \"%\")"
   ]
  },
  {
   "cell_type": "markdown",
   "id": "37bdd533-39df-4f09-9c90-9923fdfc279e",
   "metadata": {},
   "source": [
    "### Relatif"
   ]
  },
  {
   "cell_type": "code",
   "execution_count": 75,
   "id": "5b6ba0c7-c86e-4414-9232-b7b6726badea",
   "metadata": {},
   "outputs": [],
   "source": [
    "perf_relative=pd.DataFrame()\n",
    "perf_relative['performance']=portefeuille_monte_carlo['performance']-perf_indice_monte_carlo['performance']"
   ]
  },
  {
   "cell_type": "code",
   "execution_count": 76,
   "id": "bad3f0ae-9079-4d34-bc49-bec5b5cc40b8",
   "metadata": {},
   "outputs": [
    {
     "data": {
      "text/plain": [
       "(-0.03825246238529183,\n",
       " performance   -0.047563\n",
       " dtype: float64)"
      ]
     },
     "execution_count": 76,
     "metadata": {},
     "output_type": "execute_result"
    }
   ],
   "source": [
    "VaR_CVar(perf_relative)"
   ]
  },
  {
   "cell_type": "code",
   "execution_count": 77,
   "id": "4b4fd6b2-a203-4996-ad2c-2ed0d2a7ee09",
   "metadata": {},
   "outputs": [
    {
     "name": "stdout",
     "output_type": "stream",
     "text": [
      "VaR relative est de -3.825%\n",
      "CVaR relative est de -4.756%\n"
     ]
    }
   ],
   "source": [
    "print(\"VaR relative est de \" +str(round(VaR_CVar(perf_relative)[0]*100,3)) + \"%\")\n",
    "print(\"CVaR relative est de \" +str(round(VaR_CVar(perf_relative)[1][0]*100,3)) + \"%\")"
   ]
  },
  {
   "cell_type": "markdown",
   "id": "b5636a9d-7a97-485c-b5bc-508fd54f1340",
   "metadata": {},
   "source": [
    "## Vols x1.5"
   ]
  },
  {
   "cell_type": "markdown",
   "id": "fec13da0-26b2-4065-99e3-e40f217f4ab6",
   "metadata": {},
   "source": [
    "### Portefeuille"
   ]
  },
  {
   "cell_type": "code",
   "execution_count": 78,
   "id": "10ba0ded-759e-4c79-ad9a-c7cb221c6659",
   "metadata": {},
   "outputs": [],
   "source": [
    "monte_carlo=Monte_Carlo(devise_ptf,stress_test,haltons,t)\n",
    "perf_monte_carlo=performance(monte_carlo,stress_test)\n",
    "portefeuille_monte_carlo=portefeuille(positions,perf_monte_carlo)"
   ]
  },
  {
   "cell_type": "code",
   "execution_count": 79,
   "id": "6b722f19-d4b1-4b00-9d80-875ca8c3009a",
   "metadata": {},
   "outputs": [
    {
     "data": {
      "text/plain": [
       "(-0.15105677945876378,\n",
       " performance   -0.166681\n",
       " dtype: float64)"
      ]
     },
     "execution_count": 79,
     "metadata": {},
     "output_type": "execute_result"
    }
   ],
   "source": [
    "VaR_CVar(portefeuille_monte_carlo)"
   ]
  },
  {
   "cell_type": "code",
   "execution_count": 80,
   "id": "56e8bc55-cdc3-4e6c-aee2-d3cfbc4398c6",
   "metadata": {},
   "outputs": [
    {
     "name": "stdout",
     "output_type": "stream",
     "text": [
      "VaR portefeuille est de -15.106%\n",
      "CVaR du portefeuille est de -16.668%\n"
     ]
    }
   ],
   "source": [
    "print(\"VaR portefeuille est de \" +str(round(VaR_CVar(portefeuille_monte_carlo)[0]*100,3)) + \"%\")\n",
    "print(\"CVaR du portefeuille est de \" +str(round(VaR_CVar(portefeuille_monte_carlo)[1][0]*100,3)) + \"%\")"
   ]
  },
  {
   "cell_type": "markdown",
   "id": "8426c001-6a26-433d-919d-734d199892df",
   "metadata": {},
   "source": [
    "### Indice"
   ]
  },
  {
   "cell_type": "code",
   "execution_count": 81,
   "id": "d3973c17-824f-4dc8-9910-d08a3526cfbd",
   "metadata": {},
   "outputs": [
    {
     "data": {
      "text/plain": [
       "(-0.2453670554689817,\n",
       " performance   -0.253292\n",
       " dtype: float64)"
      ]
     },
     "execution_count": 81,
     "metadata": {},
     "output_type": "execute_result"
    }
   ],
   "source": [
    "monte_carlo_indice=Monte_Carlo(devise_indice,stress_test,haltons,t)\n",
    "perf_monte_carlo_actions=performance(monte_carlo_indice,stress_test)\n",
    "perf_indice_monte_carlo=portefeuille(poids_indice,perf_monte_carlo_actions)\n",
    "VaR_CVar(perf_indice_monte_carlo)"
   ]
  },
  {
   "cell_type": "code",
   "execution_count": 82,
   "id": "6b8f7a5d-f9c1-47f8-bc07-52b99c421ae3",
   "metadata": {},
   "outputs": [
    {
     "name": "stdout",
     "output_type": "stream",
     "text": [
      "VaR de l'indice est de -24.537%\n",
      "CVaR de l'indice est de -25.329%\n"
     ]
    }
   ],
   "source": [
    "print(\"VaR de l'indice est de \" +str(round(VaR_CVar(perf_indice_monte_carlo)[0]*100,3)) + \"%\")\n",
    "print(\"CVaR de l'indice est de \" +str(round(VaR_CVar(perf_indice_monte_carlo)[1][0]*100,3)) + \"%\")"
   ]
  },
  {
   "cell_type": "markdown",
   "id": "007c663f-2e30-4ba9-bfa0-7a808df1a535",
   "metadata": {},
   "source": [
    "### Relatif"
   ]
  },
  {
   "cell_type": "code",
   "execution_count": 83,
   "id": "0b2d0a95-2549-45f3-8840-07a2eb17c2cd",
   "metadata": {},
   "outputs": [
    {
     "data": {
      "text/plain": [
       "(0.0713733601800594,\n",
       " performance    0.057407\n",
       " dtype: float64)"
      ]
     },
     "execution_count": 83,
     "metadata": {},
     "output_type": "execute_result"
    }
   ],
   "source": [
    "perf_relative=pd.DataFrame()\n",
    "perf_relative['performance']=portefeuille_monte_carlo['performance']-perf_indice_monte_carlo['performance']\n",
    "VaR_CVar(perf_relative)"
   ]
  },
  {
   "cell_type": "code",
   "execution_count": 84,
   "id": "889dfa70-bd8d-4f88-bf5d-1ca06e59582a",
   "metadata": {},
   "outputs": [
    {
     "name": "stdout",
     "output_type": "stream",
     "text": [
      "VaR relative est de 7.137%\n",
      "CVaR relative est de 5.741%\n"
     ]
    }
   ],
   "source": [
    "print(\"VaR relative est de \" +str(round(VaR_CVar(perf_relative)[0]*100,3)) + \"%\")\n",
    "print(\"CVaR relative est de \" +str(round(VaR_CVar(perf_relative)[1][0]*100,3)) + \"%\")"
   ]
  },
  {
   "cell_type": "markdown",
   "id": "5df0c945-e150-434d-9254-db9f640d238f",
   "metadata": {},
   "source": [
    "# 6) Réduction du risque relatif"
   ]
  },
  {
   "cell_type": "code",
   "execution_count": 85,
   "id": "938b7c08-a75d-460b-8648-70d8b333a78c",
   "metadata": {},
   "outputs": [],
   "source": [
    "assets=dict(zip(portfolio['code'],portfolio['poids']))\n",
    "spot['EUREUR']=1"
   ]
  },
  {
   "cell_type": "code",
   "execution_count": 86,
   "id": "d9de2608-7522-4aba-97d1-accb3b2be7c5",
   "metadata": {},
   "outputs": [],
   "source": [
    "\n",
    "#Creation d'un DF qui recence les actifs (en index) et reprends leurs volatilités de la table des facteurs\n",
    "contribution=pd.DataFrame(assets.items(),columns=['code','poids']).set_index('code')\n",
    "contribution=contribution.join(facteurs['vol'])\n",
    "# L'EUR n'a pas de volatilité\n",
    "contribution.loc['EUREUR','vol']=0\n",
    "contribution=contribution.reset_index()\n",
    "contribution['contribution']=0"
   ]
  },
  {
   "cell_type": "code",
   "execution_count": 87,
   "id": "f25ef4f7-6e9f-4479-a5d6-0555dd8ebb02",
   "metadata": {},
   "outputs": [],
   "source": [
    "#Calcul de la variance total du ptf\n",
    "varcovar=np.array(np.log(1+spot[contribution['code']].pct_change()).cov()*252)\n",
    "poids=np.array(contribution['poids'])\n",
    "volatilité=np.array(contribution['vol'])\n",
    "\n",
    "# Calcul de la variance marginale de chaque actifs dans le portefeuille\n",
    "for i in range(25):\n",
    "    contribution.iloc[i,3]=marginal_variance(poids,volatilité,varcovar,i)"
   ]
  },
  {
   "cell_type": "code",
   "execution_count": 88,
   "id": "78703df3-ca66-402a-a3fb-ed866dab901d",
   "metadata": {},
   "outputs": [],
   "source": [
    "# Proportion des variances marginales par rapport à la variance totale (ou somme des variances marginales)\n",
    "contribution['proportion']=contribution['contribution']/contribution['contribution'].sum()*100"
   ]
  },
  {
   "cell_type": "code",
   "execution_count": 89,
   "id": "6b37e4a3-fd74-44c7-8a57-50c5e6827470",
   "metadata": {},
   "outputs": [
    {
     "data": {
      "text/plain": [
       "(0.043085710640333216, 0.04306514500355343)"
      ]
     },
     "execution_count": 89,
     "metadata": {},
     "output_type": "execute_result"
    }
   ],
   "source": [
    "variance(poids,varcovar) , contribution['contribution'].sum()"
   ]
  },
  {
   "cell_type": "markdown",
   "id": "80094752-7e3d-4858-8757-365cdb6d4de8",
   "metadata": {},
   "source": [
    "# a)"
   ]
  },
  {
   "cell_type": "code",
   "execution_count": 90,
   "id": "99d6db19-e952-4e4a-b50c-759755a74ee5",
   "metadata": {},
   "outputs": [
    {
     "data": {
      "text/html": [
       "<div>\n",
       "<style scoped>\n",
       "    .dataframe tbody tr th:only-of-type {\n",
       "        vertical-align: middle;\n",
       "    }\n",
       "\n",
       "    .dataframe tbody tr th {\n",
       "        vertical-align: top;\n",
       "    }\n",
       "\n",
       "    .dataframe thead th {\n",
       "        text-align: right;\n",
       "    }\n",
       "</style>\n",
       "<table border=\"1\" class=\"dataframe\">\n",
       "  <thead>\n",
       "    <tr style=\"text-align: right;\">\n",
       "      <th></th>\n",
       "      <th>code</th>\n",
       "      <th>proportion</th>\n",
       "    </tr>\n",
       "  </thead>\n",
       "  <tbody>\n",
       "    <tr>\n",
       "      <th>4</th>\n",
       "      <td>URW NA</td>\n",
       "      <td>28.697999</td>\n",
       "    </tr>\n",
       "    <tr>\n",
       "      <th>3</th>\n",
       "      <td>MC FP</td>\n",
       "      <td>8.200707</td>\n",
       "    </tr>\n",
       "    <tr>\n",
       "      <th>6</th>\n",
       "      <td>FP FP</td>\n",
       "      <td>7.769074</td>\n",
       "    </tr>\n",
       "    <tr>\n",
       "      <th>8</th>\n",
       "      <td>BP/ LN</td>\n",
       "      <td>7.398430</td>\n",
       "    </tr>\n",
       "    <tr>\n",
       "      <th>5</th>\n",
       "      <td>HSBA LN</td>\n",
       "      <td>6.358015</td>\n",
       "    </tr>\n",
       "    <tr>\n",
       "      <th>1</th>\n",
       "      <td>SAP GY</td>\n",
       "      <td>5.210215</td>\n",
       "    </tr>\n",
       "    <tr>\n",
       "      <th>9</th>\n",
       "      <td>LIN GY</td>\n",
       "      <td>4.068633</td>\n",
       "    </tr>\n",
       "    <tr>\n",
       "      <th>0</th>\n",
       "      <td>ASML NA</td>\n",
       "      <td>3.902126</td>\n",
       "    </tr>\n",
       "    <tr>\n",
       "      <th>12</th>\n",
       "      <td>RDSA NA</td>\n",
       "      <td>3.812413</td>\n",
       "    </tr>\n",
       "    <tr>\n",
       "      <th>10</th>\n",
       "      <td>SIE GY</td>\n",
       "      <td>3.630402</td>\n",
       "    </tr>\n",
       "    <tr>\n",
       "      <th>17</th>\n",
       "      <td>GLE FP</td>\n",
       "      <td>3.438545</td>\n",
       "    </tr>\n",
       "    <tr>\n",
       "      <th>7</th>\n",
       "      <td>NOVN SW</td>\n",
       "      <td>3.195419</td>\n",
       "    </tr>\n",
       "    <tr>\n",
       "      <th>15</th>\n",
       "      <td>BNP FP</td>\n",
       "      <td>3.156914</td>\n",
       "    </tr>\n",
       "    <tr>\n",
       "      <th>16</th>\n",
       "      <td>ALV GY</td>\n",
       "      <td>2.620148</td>\n",
       "    </tr>\n",
       "    <tr>\n",
       "      <th>14</th>\n",
       "      <td>AIR FP</td>\n",
       "      <td>2.452991</td>\n",
       "    </tr>\n",
       "    <tr>\n",
       "      <th>19</th>\n",
       "      <td>CGG FP</td>\n",
       "      <td>2.450218</td>\n",
       "    </tr>\n",
       "    <tr>\n",
       "      <th>2</th>\n",
       "      <td>NESN SW</td>\n",
       "      <td>1.896775</td>\n",
       "    </tr>\n",
       "    <tr>\n",
       "      <th>18</th>\n",
       "      <td>RIO LN</td>\n",
       "      <td>0.777063</td>\n",
       "    </tr>\n",
       "    <tr>\n",
       "      <th>24</th>\n",
       "      <td>SX5E</td>\n",
       "      <td>0.483935</td>\n",
       "    </tr>\n",
       "    <tr>\n",
       "      <th>13</th>\n",
       "      <td>ULVR LN</td>\n",
       "      <td>0.249665</td>\n",
       "    </tr>\n",
       "  </tbody>\n",
       "</table>\n",
       "</div>"
      ],
      "text/plain": [
       "       code  proportion\n",
       "4    URW NA   28.697999\n",
       "3     MC FP    8.200707\n",
       "6     FP FP    7.769074\n",
       "8    BP/ LN    7.398430\n",
       "5   HSBA LN    6.358015\n",
       "1    SAP GY    5.210215\n",
       "9    LIN GY    4.068633\n",
       "0   ASML NA    3.902126\n",
       "12  RDSA NA    3.812413\n",
       "10   SIE GY    3.630402\n",
       "17   GLE FP    3.438545\n",
       "7   NOVN SW    3.195419\n",
       "15   BNP FP    3.156914\n",
       "16   ALV GY    2.620148\n",
       "14   AIR FP    2.452991\n",
       "19   CGG FP    2.450218\n",
       "2   NESN SW    1.896775\n",
       "18   RIO LN    0.777063\n",
       "24     SX5E    0.483935\n",
       "13  ULVR LN    0.249665"
      ]
     },
     "execution_count": 90,
     "metadata": {},
     "output_type": "execute_result"
    }
   ],
   "source": [
    "# Tri des contributions à la variance\n",
    "contribution[['code','proportion']].sort_values('proportion',ascending=False)[:20]"
   ]
  },
  {
   "cell_type": "code",
   "execution_count": 91,
   "id": "7fe100ef-3b8f-4fab-9dc3-9bde61370714",
   "metadata": {},
   "outputs": [
    {
     "data": {
      "text/plain": [
       "99.76968626259806"
      ]
     },
     "execution_count": 91,
     "metadata": {},
     "output_type": "execute_result"
    }
   ],
   "source": [
    "contributeurs=contribution['proportion'].sort_values(ascending=False)[:20].sum(axis=0)\n",
    "contributeurs"
   ]
  },
  {
   "cell_type": "markdown",
   "id": "286e4215-e6c9-4d15-9676-4d37f8fe72c3",
   "metadata": {},
   "source": [
    "## b)"
   ]
  },
  {
   "cell_type": "code",
   "execution_count": 92,
   "id": "6ec3fd5e-4e95-4d2b-a916-ef38be91fdcc",
   "metadata": {},
   "outputs": [],
   "source": [
    "# Poids des actifs de l'indice\n",
    "poids_indice=dict(zip(indice_composition['code'],indice_composition['poids']/indice_composition['poids'].sum()))"
   ]
  },
  {
   "cell_type": "code",
   "execution_count": 93,
   "id": "55f2d254-24d2-4619-88a0-aa3517614c90",
   "metadata": {},
   "outputs": [],
   "source": [
    "# Creation d'un set qui reprends tout les actifs du ptf et de l'indice (set = pas de doublons)\n",
    "all_items=list(indice_composition['code'])\n",
    "all_items.extend(portfolio['code'])\n",
    "all_items=set(all_items)"
   ]
  },
  {
   "cell_type": "code",
   "execution_count": 94,
   "id": "1ebe9702-4d95-4746-a93f-628f6bd74cd7",
   "metadata": {},
   "outputs": [],
   "source": [
    "# Creation de deux sets , qui reprends respectivement les actifs du ptf et de l'indice\n",
    "sets_assets_portfolio=set(positions.keys())\n",
    "sets_assets_indice=set(poids_indice.keys())"
   ]
  },
  {
   "cell_type": "code",
   "execution_count": 95,
   "id": "e65a8e33-a052-4319-a023-2e2ba608cc15",
   "metadata": {},
   "outputs": [],
   "source": [
    "# Prise en comptes des actifs en communs entre l'indice et le ptf\n",
    "intersection=sets_assets_portfolio.intersection(sets_assets_indice)"
   ]
  },
  {
   "cell_type": "code",
   "execution_count": 96,
   "id": "16dd9326-ee7c-47d8-b74e-b83ecdab3b4b",
   "metadata": {},
   "outputs": [],
   "source": [
    "# dictionnaire des poids du ptf de différences en fonction de la présence ou non dans l'un des sets\n",
    "portefeuille_differences={}\n",
    "for asset in all_items:\n",
    "    if asset in intersection:\n",
    "        portefeuille_differences[asset]=positions[asset]-poids_indice[asset]\n",
    "        \n",
    "    else:\n",
    "        if asset in sets_assets_indice:\n",
    "            portefeuille_differences[asset]=-poids_indice[asset]\n",
    "        else:\n",
    "            portefeuille_differences[asset]=positions[asset]"
   ]
  },
  {
   "cell_type": "code",
   "execution_count": 97,
   "id": "f08a4551-c295-4fea-b24d-9f9815966aa3",
   "metadata": {},
   "outputs": [],
   "source": [
    "# Convertit les devise GBp, CHF en GBpEUR et CHFEUR...\n",
    "\n",
    "devise_ptf_diff={}\n",
    "\n",
    "for asset in all_items:\n",
    "\n",
    "    if asset in sets_assets_indice:\n",
    "         devise_ptf_diff[asset]=devise_indice[asset]\n",
    "            \n",
    "    else:\n",
    "          devise_ptf_diff[asset]=devise_ptf[asset]"
   ]
  },
  {
   "cell_type": "markdown",
   "id": "5d767ed5-1125-41de-83d1-9db8083e7033",
   "metadata": {},
   "source": [
    "## c)"
   ]
  },
  {
   "cell_type": "code",
   "execution_count": 98,
   "id": "73d6a4d6-a244-48c7-93b7-1a0101e3de80",
   "metadata": {},
   "outputs": [],
   "source": [
    "monte_carlo_diff=Monte_Carlo(devise_ptf_diff,facteurs,epsilons,t)\n",
    "perf_monte_carlo_diff=performance(monte_carlo_diff,stress_test)"
   ]
  },
  {
   "cell_type": "code",
   "execution_count": 99,
   "id": "016c0a0f-1c7d-4d68-9ed1-c88439dcff73",
   "metadata": {},
   "outputs": [],
   "source": [
    "portefeuille_diff=portefeuille(portefeuille_differences,perf_monte_carlo_diff)"
   ]
  },
  {
   "cell_type": "code",
   "execution_count": 100,
   "id": "6b9be2c5-0a0e-424b-86e1-e602aacbe34e",
   "metadata": {},
   "outputs": [
    {
     "data": {
      "text/plain": [
       "(-0.049565803087995956,\n",
       " performance   -0.060617\n",
       " dtype: float64)"
      ]
     },
     "execution_count": 100,
     "metadata": {},
     "output_type": "execute_result"
    }
   ],
   "source": [
    "VaR_CVar(portefeuille_diff)"
   ]
  },
  {
   "cell_type": "code",
   "execution_count": 101,
   "id": "4e2ee3e3-ec51-4c5d-b3da-133c4ff40b03",
   "metadata": {},
   "outputs": [
    {
     "name": "stdout",
     "output_type": "stream",
     "text": [
      "VaR relative est de -4.957%\n",
      "CVaR relative est de -6.062%\n"
     ]
    }
   ],
   "source": [
    "print(\"VaR relative est de \" +str(round(VaR_CVar(portefeuille_diff)[0]*100,3)) + \"%\")\n",
    "print(\"CVaR relative est de \" +str(round(VaR_CVar(portefeuille_diff)[1][0]*100,3)) + \"%\")"
   ]
  },
  {
   "cell_type": "code",
   "execution_count": 102,
   "id": "73014148-94b2-4e54-ab81-bc676112962c",
   "metadata": {},
   "outputs": [],
   "source": [
    "poids_diff=[]\n",
    "\n",
    "for col in perf_monte_carlo_diff.columns:\n",
    "    poids_diff.append(portefeuille_differences[col])\n",
    "    \n",
    "poids_diff=np.array(poids_diff)"
   ]
  },
  {
   "cell_type": "code",
   "execution_count": 103,
   "id": "e4a4ca19-44c9-4583-95f1-2f77bd50d94f",
   "metadata": {},
   "outputs": [],
   "source": [
    "reduction_var=pd.DataFrame()\n",
    "reduction_var=poids_diff*perf_monte_carlo_diff\n",
    "reduction_var['performance']=portefeuille_diff"
   ]
  },
  {
   "cell_type": "code",
   "execution_count": 104,
   "id": "e22c606f-4a30-48af-b143-7e40c99a05fc",
   "metadata": {},
   "outputs": [],
   "source": [
    "contrib_cvar=reduction_var[reduction_var['performance']<VaR_CVar(reduction_var['performance'])[0]].mean()"
   ]
  },
  {
   "cell_type": "code",
   "execution_count": 105,
   "id": "c9484c48-2e4b-4b42-8ccc-e1e3154c3861",
   "metadata": {},
   "outputs": [],
   "source": [
    "contrib_cvar=contrib_cvar/contrib_cvar['performance']*100"
   ]
  },
  {
   "cell_type": "code",
   "execution_count": 106,
   "id": "cbb03d71-9349-45a5-864c-3f61f9b7b3f8",
   "metadata": {},
   "outputs": [
    {
     "data": {
      "text/plain": [
       "DG FP           -2.351706\n",
       "BAS GY          -2.307444\n",
       "SAF FP          -2.233568\n",
       "PRU LN          -1.944071\n",
       "CS FP           -1.748923\n",
       "ABI BB          -1.737836\n",
       "UBSG SW         -1.546787\n",
       "DGE LN          -1.515455\n",
       "DAI GY          -1.388136\n",
       "BHP LN          -1.376507\n",
       "ISP IM          -1.193566\n",
       "BAYN GY         -1.183988\n",
       "VOD LN          -1.107282\n",
       "ZURN SW         -1.093630\n",
       "ULVR LN         -0.785280\n",
       "AZN LN          -0.780017\n",
       "BATS LN         -0.708250\n",
       "ABBN SW         -0.612610\n",
       "KER FP          -0.600452\n",
       "NESN SW         -0.431521\n",
       "NOVN SW         -0.396321\n",
       "DTE GY          -0.331967\n",
       "ADS GY          -0.302289\n",
       "GSK LN          -0.242605\n",
       "ENEL IM         -0.211682\n",
       "CHFEUR          -0.177852\n",
       "SU FP           -0.147393\n",
       "REL LN          -0.036495\n",
       "OR FP           -0.023228\n",
       "EUREUR          -0.000000\n",
       "DKKEUR          -0.000000\n",
       "AI FP            0.006825\n",
       "ASML NA          0.103388\n",
       "NG/ LN           0.298995\n",
       "GBpEUR           0.375452\n",
       "SAP GY           0.425273\n",
       "IBE SQ           0.553703\n",
       "SAN FP           0.613514\n",
       "LIN GY           0.893604\n",
       "PRX NA           0.921266\n",
       "MC FP            1.081533\n",
       "RIO LN           1.139457\n",
       "RKT LN           1.346177\n",
       "AIR FP           1.372311\n",
       "ADYEN NA         1.515302\n",
       "SIE GY           1.592829\n",
       "NOVOB DC         2.509969\n",
       "ALV GY           2.527873\n",
       "BNP FP           2.674781\n",
       "HSBA LN          2.826411\n",
       "RDSA NA          3.616020\n",
       "ROG SW           3.657308\n",
       "FP FP            3.865489\n",
       "SX5E             4.921182\n",
       "BP/ LN           6.826237\n",
       "GLE FP          11.713667\n",
       "CGG FP          17.887034\n",
       "URW NA          53.251263\n",
       "performance    100.000000\n",
       "dtype: float64"
      ]
     },
     "execution_count": 106,
     "metadata": {},
     "output_type": "execute_result"
    }
   ],
   "source": [
    "contrib_cvar.sort_values()"
   ]
  },
  {
   "cell_type": "markdown",
   "id": "ec5f2f8f-7306-4122-8d21-e9ea3563ecf1",
   "metadata": {
    "tags": []
   },
   "source": [
    "## d)"
   ]
  },
  {
   "cell_type": "markdown",
   "id": "edf3c068-57d9-452f-bfcf-b2f0917b6141",
   "metadata": {},
   "source": [
    "### Newton Raphson"
   ]
  },
  {
   "cell_type": "code",
   "execution_count": 107,
   "id": "83e53ed8-fa90-4fd0-8354-20281382bc84",
   "metadata": {},
   "outputs": [],
   "source": [
    "def value_at_risk(portefeuille,weights): \n",
    "    # Fonction qui renvoie la Value At Risk d'un portefeuille\n",
    "    weighted_portfolio=np.sum(portefeuille*weights,axis=1)\n",
    "    \n",
    "    return np.percentile(weighted_portfolio,5)"
   ]
  },
  {
   "cell_type": "code",
   "execution_count": 108,
   "id": "2f98da24-8214-428d-9beb-f7292402f479",
   "metadata": {},
   "outputs": [],
   "source": [
    "selected_columns=[]\n",
    "# On selectionne toutes les colonnes sauf le futur car son poids ne doit pas bouger\n",
    "for col in perf_monte_carlo_diff.columns:\n",
    "    if col !='SX5E':\n",
    "        selected_columns.append(col)\n",
    "    else:\n",
    "        continue"
   ]
  },
  {
   "cell_type": "code",
   "execution_count": 109,
   "id": "d0364c3a-7146-493e-84ce-85759c453c25",
   "metadata": {},
   "outputs": [],
   "source": [
    "portefeuille_à_reduire=perf_monte_carlo_diff[selected_columns]"
   ]
  },
  {
   "cell_type": "code",
   "execution_count": 110,
   "id": "b75932f2-b0d0-4017-81ef-b8026ce48b9c",
   "metadata": {},
   "outputs": [],
   "source": [
    "max_iterations = 25\n",
    "tolerance = 0.01\n",
    "#on cree un portefeuille équipondéré qui servira de premier pas ou pas initial\n",
    "weights = np.array([1/len(selected_columns)]*len(selected_columns))\n",
    "iteration = 0"
   ]
  },
  {
   "cell_type": "code",
   "execution_count": 111,
   "id": "d7d8c0c4-9295-4ed2-89af-c4f90ffab4f2",
   "metadata": {},
   "outputs": [],
   "source": [
    "while iteration < max_iterations:\n",
    "    \n",
    "    var=value_at_risk(portefeuille_à_reduire,weights)\n",
    "\n",
    "    if var > -0.025:\n",
    "        break\n",
    "        \n",
    "    #On cree un vecteur de gradients pour ajuster les poids en fonction de chaque actifs\n",
    "    gradient = np.zeros(len(selected_columns))\n",
    "\n",
    "    for i in range(len(selected_columns)):\n",
    "        perturbed_weights = weights.copy()\n",
    "        perturbed_weights[i] += tolerance\n",
    "\n",
    "        perturbed_var = value_at_risk(portefeuille_à_reduire,perturbed_weights)\n",
    "        # Derivée de la VaR par rapport au poids\n",
    "        gradient[i] = (perturbed_var - var) / tolerance\n",
    "\n",
    "    weights += gradient\n",
    "    weights = np.clip(weights, 0, 1)\n",
    "    # On normalise les poids \n",
    "    weights /= np.sum(weights)\n",
    "    \n",
    "\n",
    "    iteration += 1"
   ]
  },
  {
   "cell_type": "code",
   "execution_count": 112,
   "id": "aef04811-34a9-4bcf-80ec-3844f7bfdeee",
   "metadata": {},
   "outputs": [],
   "source": [
    "# Creation d'un dictionnaire qui comporte les nouveaux poids\n",
    "dico_nouveau_poids={}\n",
    "for i in range(len(selected_columns)):\n",
    "    dico_nouveau_poids[selected_columns[i]]=weights[i]\n",
    "\n",
    "dico_nouveau_poids['SX5E']=portefeuille_differences['SX5E']"
   ]
  },
  {
   "cell_type": "code",
   "execution_count": 113,
   "id": "745f9174-18c4-4d97-918e-c2131d29694a",
   "metadata": {},
   "outputs": [],
   "source": [
    "portefeuille_nouveau_poids=portefeuille(dico_nouveau_poids,perf_monte_carlo_diff)"
   ]
  },
  {
   "cell_type": "code",
   "execution_count": 114,
   "id": "2acd4345-3d36-47cf-b75f-ed5f60f4a3a8",
   "metadata": {},
   "outputs": [
    {
     "data": {
      "text/plain": [
       "(-0.022025648379879498,\n",
       " performance   -0.027502\n",
       " dtype: float64)"
      ]
     },
     "execution_count": 114,
     "metadata": {},
     "output_type": "execute_result"
    }
   ],
   "source": [
    "VaR_CVar(portefeuille_nouveau_poids)"
   ]
  },
  {
   "cell_type": "code",
   "execution_count": 115,
   "id": "3f82dfdf-589f-4942-8555-f5967a1a9438",
   "metadata": {},
   "outputs": [
    {
     "name": "stdout",
     "output_type": "stream",
     "text": [
      "VaR portefeuille rebalancé est de -2.203%\n",
      "CVaR portefeuille rebalancé est de -2.75%\n"
     ]
    }
   ],
   "source": [
    "print(\"VaR portefeuille rebalancé est de \" +str(round(VaR_CVar(portefeuille_nouveau_poids)[0]*100,3)) + \"%\")\n",
    "print(\"CVaR portefeuille rebalancé est de \" +str(round(VaR_CVar(portefeuille_nouveau_poids)[1][0]*100,3)) + \"%\")"
   ]
  },
  {
   "cell_type": "markdown",
   "id": "b213d7e7-8fe2-4a73-9783-ba40e003b358",
   "metadata": {},
   "source": [
    "### Réduction manuelle"
   ]
  },
  {
   "cell_type": "code",
   "execution_count": 116,
   "id": "f3347017-5e98-4354-8915-a99e2a5399d0",
   "metadata": {},
   "outputs": [],
   "source": [
    "ajustement=contribution.sort_values('proportion',ascending=False).copy()"
   ]
  },
  {
   "cell_type": "code",
   "execution_count": 117,
   "id": "2bb0987d-aca4-421c-a020-7911541da4c5",
   "metadata": {},
   "outputs": [],
   "source": [
    "ajustement=ajustement.loc[ajustement['code'] != 'SX5E', ['code', 'poids','vol','contribution','proportion']]"
   ]
  },
  {
   "cell_type": "code",
   "execution_count": 118,
   "id": "c3232db8-224d-4a2a-925f-3e5de6265815",
   "metadata": {},
   "outputs": [],
   "source": [
    "poids_pre_trade=contribution['poids'].sum()"
   ]
  },
  {
   "cell_type": "code",
   "execution_count": 119,
   "id": "b09db024-fd08-4e0b-8e42-08476a7866f2",
   "metadata": {},
   "outputs": [
    {
     "data": {
      "text/html": [
       "<div>\n",
       "<style scoped>\n",
       "    .dataframe tbody tr th:only-of-type {\n",
       "        vertical-align: middle;\n",
       "    }\n",
       "\n",
       "    .dataframe tbody tr th {\n",
       "        vertical-align: top;\n",
       "    }\n",
       "\n",
       "    .dataframe thead th {\n",
       "        text-align: right;\n",
       "    }\n",
       "</style>\n",
       "<table border=\"1\" class=\"dataframe\">\n",
       "  <thead>\n",
       "    <tr style=\"text-align: right;\">\n",
       "      <th></th>\n",
       "      <th>code</th>\n",
       "      <th>poids</th>\n",
       "      <th>vol</th>\n",
       "      <th>contribution</th>\n",
       "      <th>proportion</th>\n",
       "    </tr>\n",
       "  </thead>\n",
       "  <tbody>\n",
       "    <tr>\n",
       "      <th>4</th>\n",
       "      <td>URW NA</td>\n",
       "      <td>0.080000</td>\n",
       "      <td>0.753004</td>\n",
       "      <td>0.012359</td>\n",
       "      <td>28.697999</td>\n",
       "    </tr>\n",
       "    <tr>\n",
       "      <th>3</th>\n",
       "      <td>MC FP</td>\n",
       "      <td>0.060000</td>\n",
       "      <td>0.267885</td>\n",
       "      <td>0.003532</td>\n",
       "      <td>8.200707</td>\n",
       "    </tr>\n",
       "    <tr>\n",
       "      <th>6</th>\n",
       "      <td>FP FP</td>\n",
       "      <td>0.040000</td>\n",
       "      <td>0.365865</td>\n",
       "      <td>0.003346</td>\n",
       "      <td>7.769074</td>\n",
       "    </tr>\n",
       "    <tr>\n",
       "      <th>8</th>\n",
       "      <td>BP/ LN</td>\n",
       "      <td>0.040000</td>\n",
       "      <td>0.450834</td>\n",
       "      <td>0.003186</td>\n",
       "      <td>7.398430</td>\n",
       "    </tr>\n",
       "    <tr>\n",
       "      <th>5</th>\n",
       "      <td>HSBA LN</td>\n",
       "      <td>0.040000</td>\n",
       "      <td>0.378551</td>\n",
       "      <td>0.002738</td>\n",
       "      <td>6.358015</td>\n",
       "    </tr>\n",
       "    <tr>\n",
       "      <th>1</th>\n",
       "      <td>SAP GY</td>\n",
       "      <td>0.040000</td>\n",
       "      <td>0.419425</td>\n",
       "      <td>0.002244</td>\n",
       "      <td>5.210215</td>\n",
       "    </tr>\n",
       "    <tr>\n",
       "      <th>9</th>\n",
       "      <td>LIN GY</td>\n",
       "      <td>0.050000</td>\n",
       "      <td>0.261399</td>\n",
       "      <td>0.001752</td>\n",
       "      <td>4.068633</td>\n",
       "    </tr>\n",
       "    <tr>\n",
       "      <th>0</th>\n",
       "      <td>ASML NA</td>\n",
       "      <td>0.050000</td>\n",
       "      <td>0.30851</td>\n",
       "      <td>0.001680</td>\n",
       "      <td>3.902126</td>\n",
       "    </tr>\n",
       "    <tr>\n",
       "      <th>12</th>\n",
       "      <td>RDSA NA</td>\n",
       "      <td>0.030000</td>\n",
       "      <td>0.404642</td>\n",
       "      <td>0.001642</td>\n",
       "      <td>3.812413</td>\n",
       "    </tr>\n",
       "    <tr>\n",
       "      <th>10</th>\n",
       "      <td>SIE GY</td>\n",
       "      <td>0.040000</td>\n",
       "      <td>0.304995</td>\n",
       "      <td>0.001563</td>\n",
       "      <td>3.630402</td>\n",
       "    </tr>\n",
       "    <tr>\n",
       "      <th>17</th>\n",
       "      <td>GLE FP</td>\n",
       "      <td>0.040000</td>\n",
       "      <td>0.464733</td>\n",
       "      <td>0.001481</td>\n",
       "      <td>3.438545</td>\n",
       "    </tr>\n",
       "    <tr>\n",
       "      <th>7</th>\n",
       "      <td>NOVN SW</td>\n",
       "      <td>0.070000</td>\n",
       "      <td>0.192524</td>\n",
       "      <td>0.001376</td>\n",
       "      <td>3.195419</td>\n",
       "    </tr>\n",
       "    <tr>\n",
       "      <th>15</th>\n",
       "      <td>BNP FP</td>\n",
       "      <td>0.024963</td>\n",
       "      <td>0.43162</td>\n",
       "      <td>0.001360</td>\n",
       "      <td>3.156914</td>\n",
       "    </tr>\n",
       "    <tr>\n",
       "      <th>16</th>\n",
       "      <td>ALV GY</td>\n",
       "      <td>0.040000</td>\n",
       "      <td>0.265115</td>\n",
       "      <td>0.001128</td>\n",
       "      <td>2.620148</td>\n",
       "    </tr>\n",
       "    <tr>\n",
       "      <th>14</th>\n",
       "      <td>AIR FP</td>\n",
       "      <td>0.020000</td>\n",
       "      <td>0.441127</td>\n",
       "      <td>0.001056</td>\n",
       "      <td>2.452991</td>\n",
       "    </tr>\n",
       "    <tr>\n",
       "      <th>19</th>\n",
       "      <td>CGG FP</td>\n",
       "      <td>0.035000</td>\n",
       "      <td>0.724115</td>\n",
       "      <td>0.001055</td>\n",
       "      <td>2.450218</td>\n",
       "    </tr>\n",
       "    <tr>\n",
       "      <th>2</th>\n",
       "      <td>NESN SW</td>\n",
       "      <td>0.080000</td>\n",
       "      <td>0.14939</td>\n",
       "      <td>0.000817</td>\n",
       "      <td>1.896775</td>\n",
       "    </tr>\n",
       "    <tr>\n",
       "      <th>18</th>\n",
       "      <td>RIO LN</td>\n",
       "      <td>0.030000</td>\n",
       "      <td>0.32526</td>\n",
       "      <td>0.000335</td>\n",
       "      <td>0.777063</td>\n",
       "    </tr>\n",
       "    <tr>\n",
       "      <th>13</th>\n",
       "      <td>ULVR LN</td>\n",
       "      <td>0.050000</td>\n",
       "      <td>0.219826</td>\n",
       "      <td>0.000108</td>\n",
       "      <td>0.249665</td>\n",
       "    </tr>\n",
       "    <tr>\n",
       "      <th>11</th>\n",
       "      <td>AZN LN</td>\n",
       "      <td>0.040000</td>\n",
       "      <td>0.262752</td>\n",
       "      <td>0.000092</td>\n",
       "      <td>0.214207</td>\n",
       "    </tr>\n",
       "    <tr>\n",
       "      <th>22</th>\n",
       "      <td>GBpEUR</td>\n",
       "      <td>0.030000</td>\n",
       "      <td>0.065577</td>\n",
       "      <td>0.000012</td>\n",
       "      <td>0.027825</td>\n",
       "    </tr>\n",
       "    <tr>\n",
       "      <th>20</th>\n",
       "      <td>EUREUR</td>\n",
       "      <td>0.050000</td>\n",
       "      <td>0</td>\n",
       "      <td>0.000000</td>\n",
       "      <td>0.000000</td>\n",
       "    </tr>\n",
       "    <tr>\n",
       "      <th>23</th>\n",
       "      <td>DKKEUR</td>\n",
       "      <td>0.000000</td>\n",
       "      <td>0.005881</td>\n",
       "      <td>0.000000</td>\n",
       "      <td>0.000000</td>\n",
       "    </tr>\n",
       "    <tr>\n",
       "      <th>21</th>\n",
       "      <td>CHFEUR</td>\n",
       "      <td>0.020000</td>\n",
       "      <td>0.038008</td>\n",
       "      <td>-0.000005</td>\n",
       "      <td>-0.011719</td>\n",
       "    </tr>\n",
       "  </tbody>\n",
       "</table>\n",
       "</div>"
      ],
      "text/plain": [
       "       code     poids       vol  contribution  proportion\n",
       "4    URW NA  0.080000  0.753004      0.012359   28.697999\n",
       "3     MC FP  0.060000  0.267885      0.003532    8.200707\n",
       "6     FP FP  0.040000  0.365865      0.003346    7.769074\n",
       "8    BP/ LN  0.040000  0.450834      0.003186    7.398430\n",
       "5   HSBA LN  0.040000  0.378551      0.002738    6.358015\n",
       "1    SAP GY  0.040000  0.419425      0.002244    5.210215\n",
       "9    LIN GY  0.050000  0.261399      0.001752    4.068633\n",
       "0   ASML NA  0.050000   0.30851      0.001680    3.902126\n",
       "12  RDSA NA  0.030000  0.404642      0.001642    3.812413\n",
       "10   SIE GY  0.040000  0.304995      0.001563    3.630402\n",
       "17   GLE FP  0.040000  0.464733      0.001481    3.438545\n",
       "7   NOVN SW  0.070000  0.192524      0.001376    3.195419\n",
       "15   BNP FP  0.024963   0.43162      0.001360    3.156914\n",
       "16   ALV GY  0.040000  0.265115      0.001128    2.620148\n",
       "14   AIR FP  0.020000  0.441127      0.001056    2.452991\n",
       "19   CGG FP  0.035000  0.724115      0.001055    2.450218\n",
       "2   NESN SW  0.080000   0.14939      0.000817    1.896775\n",
       "18   RIO LN  0.030000   0.32526      0.000335    0.777063\n",
       "13  ULVR LN  0.050000  0.219826      0.000108    0.249665\n",
       "11   AZN LN  0.040000  0.262752      0.000092    0.214207\n",
       "22   GBpEUR  0.030000  0.065577      0.000012    0.027825\n",
       "20   EUREUR  0.050000         0      0.000000    0.000000\n",
       "23   DKKEUR  0.000000  0.005881      0.000000    0.000000\n",
       "21   CHFEUR  0.020000  0.038008     -0.000005   -0.011719"
      ]
     },
     "execution_count": 119,
     "metadata": {},
     "output_type": "execute_result"
    }
   ],
   "source": [
    "ajustement"
   ]
  },
  {
   "cell_type": "markdown",
   "id": "f3537860-6487-4660-8df8-89eaf663dc36",
   "metadata": {},
   "source": [
    "### Ajustement de poids de 7% de URW NA vers CHFEUR"
   ]
  },
  {
   "cell_type": "code",
   "execution_count": 120,
   "id": "8b36df0f-3bed-47e6-85cf-3b67a9d20b64",
   "metadata": {},
   "outputs": [],
   "source": [
    "# transfert de poids dans l'un des actifs les plus décorrelés à URW NA\n",
    "ajustement.loc[4,'poids']=0.01\n",
    "ajustement.loc[21,'poids']=0.09"
   ]
  },
  {
   "cell_type": "markdown",
   "id": "781195e2-08f9-4510-b1e4-3eefba756dca",
   "metadata": {},
   "source": [
    "### Ajustement de poids de 5% de MC FP vers AZN LN"
   ]
  },
  {
   "cell_type": "code",
   "execution_count": 121,
   "id": "a6f4cb75-c212-4de4-9463-23dbc3a68a1c",
   "metadata": {},
   "outputs": [],
   "source": [
    "# transfert de poids dans l'un des actifs les plus décorrelés à MC FP\n",
    "ajustement.loc[3,'poids']=0.01\n",
    "ajustement.loc[11,'poids']=0.09"
   ]
  },
  {
   "cell_type": "markdown",
   "id": "5bf24a49-e4d0-45ab-a427-7ef67ca69c71",
   "metadata": {},
   "source": [
    "### Ajustement de poids de 3% de BP /LN vers NESN SW"
   ]
  },
  {
   "cell_type": "code",
   "execution_count": 122,
   "id": "3fe3200f-21a5-472c-86a9-4c79a7c3c2c0",
   "metadata": {},
   "outputs": [],
   "source": [
    "# transfert de poids dans l'un des actifs les plus décorrelés à NESN SW\n",
    "ajustement.loc[8,'poids']=0.01\n",
    "ajustement.loc[2,'poids']=0.11"
   ]
  },
  {
   "cell_type": "code",
   "execution_count": 123,
   "id": "612d72d9-6497-45e4-9f3c-f37aeea5ed5f",
   "metadata": {},
   "outputs": [],
   "source": [
    "# On met les poids dans un dictionnaire et on ajoute le poids du future\n",
    "poids_ajuste=dict(zip(ajustement['code'],ajustement['poids']))\n",
    "poids_ajuste['SX5E']=portefeuille_differences['SX5E']"
   ]
  },
  {
   "cell_type": "code",
   "execution_count": 124,
   "id": "ecd5517a-4489-4461-bb61-5c026535db07",
   "metadata": {},
   "outputs": [],
   "source": [
    "# On recalcule les vecteurs de variance covariance, de poids et de volatilité\n",
    "varcovar=np.array(np.log(1+spot[ajustement['code']].pct_change()).cov()*252)\n",
    "poids=np.array(ajustement['poids'])\n",
    "volatilité=np.array(ajustement['vol'])\n",
    "\n",
    "# Calcul de la variance marginale de chaque actifs dans le portefeuille\n",
    "for i in range(24):\n",
    "    ajustement.iloc[i,3]=marginal_variance(poids,volatilité,varcovar,i)"
   ]
  },
  {
   "cell_type": "code",
   "execution_count": 125,
   "id": "2f6b7ad9-f9f7-441f-8ea1-3387438d367b",
   "metadata": {},
   "outputs": [],
   "source": [
    "# Proportion de variance expliquée par un actif\n",
    "ajustement['proportion']=ajustement['contribution']/ajustement['contribution'].sum()*100"
   ]
  },
  {
   "cell_type": "code",
   "execution_count": 126,
   "id": "b1fa632a-512b-424d-835d-dbacf01d1c3c",
   "metadata": {},
   "outputs": [],
   "source": [
    "# On recalcule le portefeuille des différences pour obtenir la VaR relative\n",
    "portefeuille_differences={}\n",
    "for asset in all_items:\n",
    "    if asset in intersection:\n",
    "        portefeuille_differences[asset]=poids_ajuste[asset]-poids_indice[asset]\n",
    "        \n",
    "    else:\n",
    "        if asset in sets_assets_indice:\n",
    "            portefeuille_differences[asset]=-poids_indice[asset]\n",
    "        else:\n",
    "            portefeuille_differences[asset]=poids_ajuste[asset]"
   ]
  },
  {
   "cell_type": "code",
   "execution_count": 127,
   "id": "1679e8a6-eb58-4063-9d79-dcd3a8ef40ae",
   "metadata": {},
   "outputs": [],
   "source": [
    "# On refait le monte carlo avec les nouveaux poids\n",
    "monte_carlo_diff=Monte_Carlo(devise_ptf_diff,facteurs,epsilons,t)\n",
    "perf_monte_carlo_diff=performance(monte_carlo_diff,stress_test)"
   ]
  },
  {
   "cell_type": "code",
   "execution_count": 128,
   "id": "18e1b396-8c76-4167-8f83-0742c29927a2",
   "metadata": {},
   "outputs": [],
   "source": [
    "portefeuille_differences_ajusté=portefeuille(portefeuille_differences,perf_monte_carlo_diff)"
   ]
  },
  {
   "cell_type": "code",
   "execution_count": 129,
   "id": "a95e346a-c55b-492c-8fbc-0844f1ab82fc",
   "metadata": {},
   "outputs": [
    {
     "data": {
      "text/plain": [
       "(-0.021656553460566753,\n",
       " performance   -0.027019\n",
       " dtype: float64)"
      ]
     },
     "execution_count": 129,
     "metadata": {},
     "output_type": "execute_result"
    }
   ],
   "source": [
    "VaR_CVar(portefeuille_differences_ajusté)"
   ]
  },
  {
   "cell_type": "code",
   "execution_count": 130,
   "id": "6c7e3b87-ecc6-475f-8511-f489ef92fa19",
   "metadata": {},
   "outputs": [
    {
     "name": "stdout",
     "output_type": "stream",
     "text": [
      "VaR relative ajusté est de -2.166%\n",
      "CVaR relative ajusté est de -2.702%\n"
     ]
    }
   ],
   "source": [
    "print(\"VaR relative ajusté est de \" +str(round(VaR_CVar(portefeuille_differences_ajusté)[0]*100,3)) + \"%\")\n",
    "print(\"CVaR relative ajusté est de \" +str(round(VaR_CVar(portefeuille_differences_ajusté)[1][0]*100,3)) + \"%\")"
   ]
  },
  {
   "cell_type": "code",
   "execution_count": 131,
   "id": "d232612b-f125-48f8-8f8f-16ccd30e42b0",
   "metadata": {},
   "outputs": [
    {
     "data": {
      "text/html": [
       "<div>\n",
       "<style scoped>\n",
       "    .dataframe tbody tr th:only-of-type {\n",
       "        vertical-align: middle;\n",
       "    }\n",
       "\n",
       "    .dataframe tbody tr th {\n",
       "        vertical-align: top;\n",
       "    }\n",
       "\n",
       "    .dataframe thead th {\n",
       "        text-align: right;\n",
       "    }\n",
       "</style>\n",
       "<table border=\"1\" class=\"dataframe\">\n",
       "  <thead>\n",
       "    <tr style=\"text-align: right;\">\n",
       "      <th></th>\n",
       "      <th>code</th>\n",
       "      <th>poids</th>\n",
       "      <th>vol</th>\n",
       "      <th>contribution</th>\n",
       "      <th>proportion</th>\n",
       "    </tr>\n",
       "  </thead>\n",
       "  <tbody>\n",
       "    <tr>\n",
       "      <th>4</th>\n",
       "      <td>URW NA</td>\n",
       "      <td>0.010000</td>\n",
       "      <td>0.753004</td>\n",
       "      <td>0.000952</td>\n",
       "      <td>4.270699</td>\n",
       "    </tr>\n",
       "    <tr>\n",
       "      <th>3</th>\n",
       "      <td>MC FP</td>\n",
       "      <td>0.010000</td>\n",
       "      <td>0.267885</td>\n",
       "      <td>0.000500</td>\n",
       "      <td>2.241782</td>\n",
       "    </tr>\n",
       "    <tr>\n",
       "      <th>6</th>\n",
       "      <td>FP FP</td>\n",
       "      <td>0.040000</td>\n",
       "      <td>0.365865</td>\n",
       "      <td>0.003010</td>\n",
       "      <td>13.508771</td>\n",
       "    </tr>\n",
       "    <tr>\n",
       "      <th>8</th>\n",
       "      <td>BP/ LN</td>\n",
       "      <td>0.010000</td>\n",
       "      <td>0.450834</td>\n",
       "      <td>0.000770</td>\n",
       "      <td>3.456339</td>\n",
       "    </tr>\n",
       "    <tr>\n",
       "      <th>5</th>\n",
       "      <td>HSBA LN</td>\n",
       "      <td>0.040000</td>\n",
       "      <td>0.378551</td>\n",
       "      <td>0.002047</td>\n",
       "      <td>9.184524</td>\n",
       "    </tr>\n",
       "    <tr>\n",
       "      <th>1</th>\n",
       "      <td>SAP GY</td>\n",
       "      <td>0.040000</td>\n",
       "      <td>0.419425</td>\n",
       "      <td>0.001787</td>\n",
       "      <td>8.019065</td>\n",
       "    </tr>\n",
       "    <tr>\n",
       "      <th>9</th>\n",
       "      <td>LIN GY</td>\n",
       "      <td>0.050000</td>\n",
       "      <td>0.261399</td>\n",
       "      <td>0.001877</td>\n",
       "      <td>8.422036</td>\n",
       "    </tr>\n",
       "    <tr>\n",
       "      <th>0</th>\n",
       "      <td>ASML NA</td>\n",
       "      <td>0.050000</td>\n",
       "      <td>0.30851</td>\n",
       "      <td>0.001144</td>\n",
       "      <td>5.132072</td>\n",
       "    </tr>\n",
       "    <tr>\n",
       "      <th>12</th>\n",
       "      <td>RDSA NA</td>\n",
       "      <td>0.030000</td>\n",
       "      <td>0.404642</td>\n",
       "      <td>0.001579</td>\n",
       "      <td>7.084114</td>\n",
       "    </tr>\n",
       "    <tr>\n",
       "      <th>10</th>\n",
       "      <td>SIE GY</td>\n",
       "      <td>0.040000</td>\n",
       "      <td>0.304995</td>\n",
       "      <td>0.001385</td>\n",
       "      <td>6.216578</td>\n",
       "    </tr>\n",
       "    <tr>\n",
       "      <th>17</th>\n",
       "      <td>GLE FP</td>\n",
       "      <td>0.040000</td>\n",
       "      <td>0.464733</td>\n",
       "      <td>0.001824</td>\n",
       "      <td>8.185473</td>\n",
       "    </tr>\n",
       "    <tr>\n",
       "      <th>7</th>\n",
       "      <td>NOVN SW</td>\n",
       "      <td>0.070000</td>\n",
       "      <td>0.192524</td>\n",
       "      <td>0.001190</td>\n",
       "      <td>5.337989</td>\n",
       "    </tr>\n",
       "    <tr>\n",
       "      <th>15</th>\n",
       "      <td>BNP FP</td>\n",
       "      <td>0.024963</td>\n",
       "      <td>0.43162</td>\n",
       "      <td>0.000803</td>\n",
       "      <td>3.605504</td>\n",
       "    </tr>\n",
       "    <tr>\n",
       "      <th>16</th>\n",
       "      <td>ALV GY</td>\n",
       "      <td>0.040000</td>\n",
       "      <td>0.265115</td>\n",
       "      <td>0.000732</td>\n",
       "      <td>3.286765</td>\n",
       "    </tr>\n",
       "    <tr>\n",
       "      <th>14</th>\n",
       "      <td>AIR FP</td>\n",
       "      <td>0.020000</td>\n",
       "      <td>0.441127</td>\n",
       "      <td>0.000411</td>\n",
       "      <td>1.842867</td>\n",
       "    </tr>\n",
       "    <tr>\n",
       "      <th>19</th>\n",
       "      <td>CGG FP</td>\n",
       "      <td>0.035000</td>\n",
       "      <td>0.724115</td>\n",
       "      <td>0.000562</td>\n",
       "      <td>2.521496</td>\n",
       "    </tr>\n",
       "    <tr>\n",
       "      <th>2</th>\n",
       "      <td>NESN SW</td>\n",
       "      <td>0.110000</td>\n",
       "      <td>0.14939</td>\n",
       "      <td>0.000763</td>\n",
       "      <td>3.423475</td>\n",
       "    </tr>\n",
       "    <tr>\n",
       "      <th>18</th>\n",
       "      <td>RIO LN</td>\n",
       "      <td>0.030000</td>\n",
       "      <td>0.32526</td>\n",
       "      <td>0.000061</td>\n",
       "      <td>0.271729</td>\n",
       "    </tr>\n",
       "    <tr>\n",
       "      <th>13</th>\n",
       "      <td>ULVR LN</td>\n",
       "      <td>0.050000</td>\n",
       "      <td>0.219826</td>\n",
       "      <td>0.000309</td>\n",
       "      <td>1.387483</td>\n",
       "    </tr>\n",
       "    <tr>\n",
       "      <th>11</th>\n",
       "      <td>AZN LN</td>\n",
       "      <td>0.090000</td>\n",
       "      <td>0.262752</td>\n",
       "      <td>0.000565</td>\n",
       "      <td>2.533171</td>\n",
       "    </tr>\n",
       "    <tr>\n",
       "      <th>22</th>\n",
       "      <td>GBpEUR</td>\n",
       "      <td>0.030000</td>\n",
       "      <td>0.065577</td>\n",
       "      <td>0.000003</td>\n",
       "      <td>0.015561</td>\n",
       "    </tr>\n",
       "    <tr>\n",
       "      <th>20</th>\n",
       "      <td>EUREUR</td>\n",
       "      <td>0.050000</td>\n",
       "      <td>0</td>\n",
       "      <td>0.000000</td>\n",
       "      <td>0.000000</td>\n",
       "    </tr>\n",
       "    <tr>\n",
       "      <th>23</th>\n",
       "      <td>DKKEUR</td>\n",
       "      <td>0.000000</td>\n",
       "      <td>0.005881</td>\n",
       "      <td>0.000000</td>\n",
       "      <td>0.000000</td>\n",
       "    </tr>\n",
       "    <tr>\n",
       "      <th>21</th>\n",
       "      <td>CHFEUR</td>\n",
       "      <td>0.090000</td>\n",
       "      <td>0.038008</td>\n",
       "      <td>0.000012</td>\n",
       "      <td>0.052506</td>\n",
       "    </tr>\n",
       "  </tbody>\n",
       "</table>\n",
       "</div>"
      ],
      "text/plain": [
       "       code     poids       vol  contribution  proportion\n",
       "4    URW NA  0.010000  0.753004      0.000952    4.270699\n",
       "3     MC FP  0.010000  0.267885      0.000500    2.241782\n",
       "6     FP FP  0.040000  0.365865      0.003010   13.508771\n",
       "8    BP/ LN  0.010000  0.450834      0.000770    3.456339\n",
       "5   HSBA LN  0.040000  0.378551      0.002047    9.184524\n",
       "1    SAP GY  0.040000  0.419425      0.001787    8.019065\n",
       "9    LIN GY  0.050000  0.261399      0.001877    8.422036\n",
       "0   ASML NA  0.050000   0.30851      0.001144    5.132072\n",
       "12  RDSA NA  0.030000  0.404642      0.001579    7.084114\n",
       "10   SIE GY  0.040000  0.304995      0.001385    6.216578\n",
       "17   GLE FP  0.040000  0.464733      0.001824    8.185473\n",
       "7   NOVN SW  0.070000  0.192524      0.001190    5.337989\n",
       "15   BNP FP  0.024963   0.43162      0.000803    3.605504\n",
       "16   ALV GY  0.040000  0.265115      0.000732    3.286765\n",
       "14   AIR FP  0.020000  0.441127      0.000411    1.842867\n",
       "19   CGG FP  0.035000  0.724115      0.000562    2.521496\n",
       "2   NESN SW  0.110000   0.14939      0.000763    3.423475\n",
       "18   RIO LN  0.030000   0.32526      0.000061    0.271729\n",
       "13  ULVR LN  0.050000  0.219826      0.000309    1.387483\n",
       "11   AZN LN  0.090000  0.262752      0.000565    2.533171\n",
       "22   GBpEUR  0.030000  0.065577      0.000003    0.015561\n",
       "20   EUREUR  0.050000         0      0.000000    0.000000\n",
       "23   DKKEUR  0.000000  0.005881      0.000000    0.000000\n",
       "21   CHFEUR  0.090000  0.038008      0.000012    0.052506"
      ]
     },
     "execution_count": 131,
     "metadata": {},
     "output_type": "execute_result"
    }
   ],
   "source": [
    "ajustement"
   ]
  },
  {
   "cell_type": "code",
   "execution_count": 132,
   "id": "a3ec977b-07b4-4d23-a46b-4f174ce9584d",
   "metadata": {},
   "outputs": [
    {
     "data": {
      "text/plain": [
       "True"
      ]
     },
     "execution_count": 132,
     "metadata": {},
     "output_type": "execute_result"
    }
   ],
   "source": [
    "# Verification des poids\n",
    "poids_post_trade=np.array(list(poids_ajuste.values())).sum()\n",
    "poids_post_trade==poids_pre_trade"
   ]
  },
  {
   "cell_type": "code",
   "execution_count": null,
   "id": "6f061b3b-8748-43dc-bb3d-bbbc72df93bf",
   "metadata": {},
   "outputs": [],
   "source": []
  },
  {
   "cell_type": "code",
   "execution_count": null,
   "id": "285a7afb-8180-438d-9cf0-5f049c974e99",
   "metadata": {},
   "outputs": [],
   "source": []
  }
 ],
 "metadata": {
  "kernelspec": {
   "display_name": "Python 3 (ipykernel)",
   "language": "python",
   "name": "python3"
  },
  "language_info": {
   "codemirror_mode": {
    "name": "ipython",
    "version": 3
   },
   "file_extension": ".py",
   "mimetype": "text/x-python",
   "name": "python",
   "nbconvert_exporter": "python",
   "pygments_lexer": "ipython3",
   "version": "3.9.12"
  },
  "toc-autonumbering": false,
  "toc-showcode": true,
  "toc-showmarkdowntxt": false,
  "toc-showtags": false
 },
 "nbformat": 4,
 "nbformat_minor": 5
}
